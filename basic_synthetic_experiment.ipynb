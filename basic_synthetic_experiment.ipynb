{
 "cells": [
  {
   "cell_type": "code",
   "execution_count": 1,
   "metadata": {
    "collapsed": true
   },
   "outputs": [],
   "source": [
    "%reload_ext autoreload\n",
    "%autoreload 2\n",
    "%matplotlib inline"
   ]
  },
  {
   "cell_type": "code",
   "execution_count": 2,
   "metadata": {
    "collapsed": true
   },
   "outputs": [],
   "source": [
    "import numpy as np\n",
    "import matplotlib\n",
    "import matplotlib.pyplot as plt\n",
    "from sklearn.datasets import load_boston\n",
    "from sklearn import preprocessing\n",
    "from sklearn.linear_model import Ridge\n",
    "from sklearn import linear_model as lm"
   ]
  },
  {
   "cell_type": "markdown",
   "metadata": {},
   "source": [
    "# Create dataset --- x1 and x2 have the same variance"
   ]
  },
  {
   "cell_type": "code",
   "execution_count": 56,
   "metadata": {
    "collapsed": false
   },
   "outputs": [],
   "source": [
    "###### Create the original dataset\n",
    "n = 600 # total number of data points\n",
    "x = np.random.rand(n)\n",
    "\n",
    "# In this case the \n",
    "sigma_f1 = 0.1\n",
    "sigma_f2 = 0.1\n",
    "sigma_noise = 0.01\n",
    "\n",
    "p = np.array([0.9, 0.1])\n",
    "\n",
    "x1 = x + np.random.normal(0,sigma_f1,x.shape[0]) # x1 feature \n",
    "x2 = x + np.random.normal(0,sigma_f2,x.shape[0]) # x2 feature \n",
    "\n",
    "x1 = x1.reshape((x1.shape[0],1))\n",
    "x2 = x2.reshape((x2.shape[0],1))\n",
    "X = np.concatenate((x1,x2),axis=1)\n",
    "\n",
    "w = np.array([0.5,0.5])\n",
    "\n",
    "y = np.dot(X,w) + np.random.normal(0,sigma_noise,X.shape[0])"
   ]
  },
  {
   "cell_type": "code",
   "execution_count": 57,
   "metadata": {
    "collapsed": false
   },
   "outputs": [],
   "source": [
    "#### separate/modify for training and testing data\n",
    "X_tr_un = np.array(X[0:n/2,:])\n",
    "y_tr = np.array(y[0:n/2])\n",
    "X_te_un = np.array(X[n/2:,:])\n",
    "y_te = np.array(y[n/2:])\n",
    "\n",
    "X_tr_mo = np.array(X[0:n/2,:])\n",
    "num = X_tr_mo.shape[0] - (p*X_tr_mo.shape[0]).astype('int32')\n",
    "for i in range(num.shape[0]):\n",
    "    perm = np.random.permutation(X_tr_mo.shape[0])[0:num[i]]\n",
    "    X_tr_mo[perm, i] = 0\n",
    "X_te_mo = np.array(X[n/2:,:])\n",
    "num2 = X_te_mo.shape[0] - (p*X_te_mo.shape[0]).astype('int32')\n",
    "for i in range(num2.shape[0]):\n",
    "    perm = np.random.permutation(X_te_mo.shape[0])[0:num2[i]]\n",
    "    X_te_mo[perm,i] = 0"
   ]
  },
  {
   "cell_type": "code",
   "execution_count": 191,
   "metadata": {
    "collapsed": false
   },
   "outputs": [],
   "source": [
    "#lam = np.logspace(-3,6,10)\n",
    "lam = np.linspace(50,149,100)"
   ]
  },
  {
   "cell_type": "code",
   "execution_count": 192,
   "metadata": {
    "collapsed": false
   },
   "outputs": [
    {
     "data": {
      "text/plain": [
       "array([  50.,   51.,   52.,   53.,   54.,   55.,   56.,   57.,   58.,\n",
       "         59.,   60.,   61.,   62.,   63.,   64.,   65.,   66.,   67.,\n",
       "         68.,   69.,   70.,   71.,   72.,   73.,   74.,   75.,   76.,\n",
       "         77.,   78.,   79.,   80.,   81.,   82.,   83.,   84.,   85.,\n",
       "         86.,   87.,   88.,   89.,   90.,   91.,   92.,   93.,   94.,\n",
       "         95.,   96.,   97.,   98.,   99.,  100.,  101.,  102.,  103.,\n",
       "        104.,  105.,  106.,  107.,  108.,  109.,  110.,  111.,  112.,\n",
       "        113.,  114.,  115.,  116.,  117.,  118.,  119.,  120.,  121.,\n",
       "        122.,  123.,  124.,  125.,  126.,  127.,  128.,  129.,  130.,\n",
       "        131.,  132.,  133.,  134.,  135.,  136.,  137.,  138.,  139.,\n",
       "        140.,  141.,  142.,  143.,  144.,  145.,  146.,  147.,  148.,  149.])"
      ]
     },
     "execution_count": 192,
     "metadata": {},
     "output_type": "execute_result"
    }
   ],
   "source": [
    "lam"
   ]
  },
  {
   "cell_type": "markdown",
   "metadata": {},
   "source": [
    "# Exp1:  vanilla ridge regression on unmodified X_tr_un"
   ]
  },
  {
   "cell_type": "code",
   "execution_count": 76,
   "metadata": {
    "collapsed": false
   },
   "outputs": [],
   "source": [
    "w_r1 = np.zeros((lam.shape[0],X_tr_un.shape[1]))\n",
    "for i in range(lam.shape[0]):\n",
    "    inv = np.linalg.inv(np.dot(X_tr_un.T,X_tr_un)+lam[i]*np.eye(X_tr_un.shape[1]))\n",
    "    w_r1[i] = np.dot(np.dot(inv,X_tr_un.T),y_tr)"
   ]
  },
  {
   "cell_type": "code",
   "execution_count": 80,
   "metadata": {
    "collapsed": false
   },
   "outputs": [
    {
     "data": {
      "text/plain": [
       "array([ 0.09229393,  0.09229567,  0.09231438,  0.09259739,  0.09752798,\n",
       "        0.14490896,  0.27509075,  0.32587909,  0.33236909,  0.33303592])"
      ]
     },
     "execution_count": 80,
     "metadata": {},
     "output_type": "execute_result"
    }
   ],
   "source": [
    "# error \n",
    "error1 = np.zeros(lam.shape[0])\n",
    "for i in range(lam.shape[0]):\n",
    "    dif = np.dot(X_te_mo, w_r1[i]) - y_te\n",
    "    error1[i] = 1.0/X_te_mo.shape[0]*np.sum(np.power(dif,2))\n",
    "error1"
   ]
  },
  {
   "cell_type": "code",
   "execution_count": 84,
   "metadata": {
    "collapsed": false
   },
   "outputs": [
    {
     "data": {
      "image/png": "[encoded data removed]",
      "text/plain": [
       "<matplotlib.figure.Figure at 0x108ab8f50>"
      ]
     },
     "metadata": {},
     "output_type": "display_data"
    }
   ],
   "source": [
    "fig, ax = plt.subplots()\n",
    "ax.plot(lam, error1, label= 'exp1')\n",
    "ax.set_ylim([0,ax.get_ylim()[1]+0.1])\n",
    "ax.set_xscale('log')\n",
    "plt.show()"
   ]
  },
  {
   "cell_type": "markdown",
   "metadata": {},
   "source": [
    "# Exp2: vanilla ridge regression on modified X_tr_mo"
   ]
  },
  {
   "cell_type": "code",
   "execution_count": 85,
   "metadata": {
    "collapsed": true
   },
   "outputs": [],
   "source": [
    "w_r2 = np.zeros((lam.shape[0],X_tr_mo.shape[1]))\n",
    "for i in range(lam.shape[0]):\n",
    "    inv = np.linalg.inv(np.dot(X_tr_mo.T,X_tr_mo)+lam[i]*np.eye(X_tr_mo.shape[1]))\n",
    "    w_r2[i] = np.dot(np.dot(inv,X_tr_mo.T),y_tr)"
   ]
  },
  {
   "cell_type": "code",
   "execution_count": 91,
   "metadata": {
    "collapsed": false
   },
   "outputs": [
    {
     "data": {
      "text/plain": [
       "array([ 0.03148441,  0.03148357,  0.0314756 ,  0.03143688,  0.03382667,\n",
       "        0.10890652,  0.28203259,  0.3273313 ,  0.33252475,  0.33305159])"
      ]
     },
     "execution_count": 91,
     "metadata": {},
     "output_type": "execute_result"
    }
   ],
   "source": [
    "# error \n",
    "error2 = np.zeros(lam.shape[0])\n",
    "for i in range(lam.shape[0]):\n",
    "    dif = np.dot(X_te_mo, w_r2[i]) - y_te\n",
    "    error2[i] = 1.0/X_te_mo.shape[0]*np.sum(np.power(dif,2))\n",
    "error2"
   ]
  },
  {
   "cell_type": "code",
   "execution_count": 92,
   "metadata": {
    "collapsed": false
   },
   "outputs": [
    {
     "data": {
      "image/png": "[encoded data removed]",
      "text/plain": [
       "<matplotlib.figure.Figure at 0x108a17790>"
      ]
     },
     "metadata": {},
     "output_type": "display_data"
    }
   ],
   "source": [
    "fig, ax = plt.subplots()\n",
    "ax.plot(lam, error2, label= 'exp2')\n",
    "ax.set_ylim([0,ax.get_ylim()[1]+0.1])\n",
    "ax.set_xscale('log')\n",
    "plt.show()"
   ]
  },
  {
   "cell_type": "markdown",
   "metadata": {},
   "source": [
    "# Exp3: anytime with L2 on X_tr_un"
   ]
  },
  {
   "cell_type": "code",
   "execution_count": 93,
   "metadata": {
    "collapsed": true
   },
   "outputs": [],
   "source": [
    "w_r3 = np.zeros((lam.shape[0],X_tr_un.shape[1]))\n",
    "\n",
    "dp = np.diag(p) #B\n",
    "dpp = np.diag(p-1.0/2*p*p)\n",
    "xp = np.dot(X_tr_un,dp)\n",
    "\n",
    "for i in range(lam.shape[0]):\n",
    "    inv = np.linalg.inv(np.dot(np.dot(X_tr_un.T,X_tr_un),dpp) + 1.0/2*np.dot(xp.T,xp)+lam[i]*np.eye(X_tr_un.shape[1]))\n",
    "    w_r3[i] = np.dot(np.dot(inv,xp.T),y_tr)"
   ]
  },
  {
   "cell_type": "code",
   "execution_count": 96,
   "metadata": {
    "collapsed": false
   },
   "outputs": [
    {
     "data": {
      "text/plain": [
       "array([ 17.16767995,  17.01132584,  15.55762982,   7.50227609,\n",
       "         0.43282199,   0.11429753,   0.28169152,   0.32725301,\n",
       "         0.33251635,   0.33305075])"
      ]
     },
     "execution_count": 96,
     "metadata": {},
     "output_type": "execute_result"
    }
   ],
   "source": [
    "# error \n",
    "error3 = np.zeros(lam.shape[0])\n",
    "for i in range(lam.shape[0]):\n",
    "    dif = np.dot(X_te_mo, w_r3[i]) - y_te\n",
    "    error3[i] = 1.0/X_te_mo.shape[0]*np.sum(np.power(dif,2))\n",
    "error3"
   ]
  },
  {
   "cell_type": "code",
   "execution_count": 97,
   "metadata": {
    "collapsed": false
   },
   "outputs": [
    {
     "data": {
      "image/png": "[encoded data removed]",
      "text/plain": [
       "<matplotlib.figure.Figure at 0x108acc590>"
      ]
     },
     "metadata": {},
     "output_type": "display_data"
    }
   ],
   "source": [
    "fig, ax = plt.subplots()\n",
    "ax.plot(lam, error3, label= 'exp3')\n",
    "ax.set_ylim([0,ax.get_ylim()[1]+0.1])\n",
    "ax.set_xscale('log')\n",
    "plt.show()"
   ]
  },
  {
   "cell_type": "markdown",
   "metadata": {},
   "source": [
    "# Exp4: vanilla lasso on unmodified X_tr_un"
   ]
  },
  {
   "cell_type": "code",
   "execution_count": 98,
   "metadata": {
    "collapsed": true
   },
   "outputs": [],
   "source": [
    "w_r4 = np.zeros((lam.shape[0],X_tr_un.shape[1]))\n",
    "y_pred = np.zeros((lam.shape[0],X_te_mo.shape[0]))\n",
    "for i in range(lam.shape[0]):\n",
    "    clf = lm.Lasso(alpha=lam[0])\n",
    "    clf.fit(X_tr_un,y_tr)\n",
    "    y_pred[i] = clf.predict(X_te_mo)\n",
    "    w_r4[i] = clf.coef_\n"
   ]
  },
  {
   "cell_type": "code",
   "execution_count": 99,
   "metadata": {
    "collapsed": false
   },
   "outputs": [
    {
     "data": {
      "text/plain": [
       "array([ 0.18991344,  0.2269521 ,  0.11079067,  0.34749243,  0.13991235,\n",
       "        0.24301307,  0.14800655,  0.2305421 ,  0.25007315,  0.19356685])"
      ]
     },
     "execution_count": 99,
     "metadata": {},
     "output_type": "execute_result"
    }
   ],
   "source": [
    "# error \n",
    "error4 = np.zeros(lam.shape[0])\n",
    "for i in range(lam.shape[0]):\n",
    "    dif = y_pred[i] - y_te\n",
    "    error4[i] = 1.0/X_te_mo.shape[0]*np.sum(np.power(dif,2))\n",
    "error4"
   ]
  },
  {
   "cell_type": "code",
   "execution_count": 100,
   "metadata": {
    "collapsed": false
   },
   "outputs": [
    {
     "data": {
      "image/png": "[encoded data removed]",
      "text/plain": [
       "<matplotlib.figure.Figure at 0x108bcfcd0>"
      ]
     },
     "metadata": {},
     "output_type": "display_data"
    }
   ],
   "source": [
    "fig, ax = plt.subplots()\n",
    "ax.plot(lam, error4, label= 'exp4')\n",
    "ax.set_ylim([0,ax.get_ylim()[1]+0.1])\n",
    "ax.set_xscale('log')\n",
    "plt.show()"
   ]
  },
  {
   "cell_type": "markdown",
   "metadata": {},
   "source": [
    "# Exp5: vanilla lasso on modified X_tr_mo"
   ]
  },
  {
   "cell_type": "code",
   "execution_count": 101,
   "metadata": {
    "collapsed": true
   },
   "outputs": [],
   "source": [
    "w_r5 = np.zeros((lam.shape[0],X_tr_mo.shape[1]))\n",
    "y_pred5 = np.zeros((lam.shape[0],X_te_mo.shape[0]))\n",
    "for i in range(lam.shape[0]):\n",
    "    clf = lm.Lasso(alpha=lam[0])\n",
    "    clf.fit(X_tr_mo,y_tr)\n",
    "    y_pred5[i] = clf.predict(X_te_mo)\n",
    "    w_r5[i] = clf.coef_"
   ]
  },
  {
   "cell_type": "code",
   "execution_count": 102,
   "metadata": {
    "collapsed": false
   },
   "outputs": [
    {
     "data": {
      "text/plain": [
       "array([ 0.02510654,  0.02510654,  0.02510654,  0.02510654,  0.02510654,\n",
       "        0.02510654,  0.02510654,  0.02510654,  0.02510654,  0.02510654])"
      ]
     },
     "execution_count": 102,
     "metadata": {},
     "output_type": "execute_result"
    }
   ],
   "source": [
    "# error \n",
    "error5 = np.zeros(lam.shape[0])\n",
    "for i in range(lam.shape[0]):\n",
    "    dif = y_pred5[i] - y_te\n",
    "    error5[i] = 1.0/X_te_mo.shape[0]*np.sum(np.power(dif,2))\n",
    "error5"
   ]
  },
  {
   "cell_type": "code",
   "execution_count": 103,
   "metadata": {
    "collapsed": false
   },
   "outputs": [
    {
     "data": {
      "image/png": "[encoded data removed]",
      "text/plain": [
       "<matplotlib.figure.Figure at 0x108729050>"
      ]
     },
     "metadata": {},
     "output_type": "display_data"
    }
   ],
   "source": [
    "fig, ax = plt.subplots()\n",
    "ax.plot(lam, error5, label= 'exp5')\n",
    "ax.set_ylim([0,ax.get_ylim()[1]+0.1])\n",
    "ax.set_xscale('log')\n",
    "plt.show()"
   ]
  },
  {
   "cell_type": "markdown",
   "metadata": {},
   "source": [
    "# Exp6: anytime with L1 on unmodified X_tr_un"
   ]
  },
  {
   "cell_type": "code",
   "execution_count": 109,
   "metadata": {
    "collapsed": false
   },
   "outputs": [
    {
     "data": {
      "text/plain": [
       "array([[  4.06949921, -20.5681752 ],\n",
       "       [  4.06049921, -20.5591752 ],\n",
       "       [  3.97049921, -20.4691752 ],\n",
       "       [  3.07049921, -19.5691752 ],\n",
       "       [  0.        , -10.5691752 ],\n",
       "       [  0.        ,   0.        ],\n",
       "       [  0.        ,   0.        ],\n",
       "       [  0.        ,   0.        ],\n",
       "       [  0.        ,   0.        ],\n",
       "       [  0.        ,   0.        ]])"
      ]
     },
     "execution_count": 109,
     "metadata": {},
     "output_type": "execute_result"
    }
   ],
   "source": [
    "w_r6 = np.zeros((lam.shape[0],X_tr_un.shape[1]))\n",
    "\n",
    "dp = np.diag(p) #B\n",
    "dpp = np.diag(p-1.0/2*p*p)\n",
    "xp = np.dot(X_tr_un,dp)\n",
    "\n",
    "for i in range(lam.shape[0]):\n",
    "    inv = np.linalg.inv(np.dot(np.dot(X_tr_un.T,X_tr_un),dpp) + 1.0/2*np.dot(xp.T,xp))\n",
    "    w_r6[i] = np.dot(np.dot(inv,xp.T),y_tr)\n",
    "\n",
    "for i in range(w_r6.shape[0]):\n",
    "    for j in range(w_r6.shape[1]):\n",
    "        it = w_r6[i,j]\n",
    "        if it > lam[i]:\n",
    "            it -= lam[i]\n",
    "        elif it <= lam[i] and it >= -lam[i]:\n",
    "            it = 0\n",
    "        elif it < -lam[i]:\n",
    "            it += lam[i]\n",
    "        w_r6[i,j] = it\n",
    "w_r6"
   ]
  },
  {
   "cell_type": "code",
   "execution_count": 110,
   "metadata": {
    "collapsed": false
   },
   "outputs": [
    {
     "data": {
      "text/plain": [
       "array([ 17.18328663,  17.16623341,  16.99817727,  15.56522148,\n",
       "         6.30305704,   0.33311022,   0.33311022,   0.33311022,\n",
       "         0.33311022,   0.33311022])"
      ]
     },
     "execution_count": 110,
     "metadata": {},
     "output_type": "execute_result"
    }
   ],
   "source": [
    "# error \n",
    "error6 = np.zeros(lam.shape[0])\n",
    "for i in range(lam.shape[0]):\n",
    "    dif = np.dot(X_te_mo, w_r6[i]) - y_te\n",
    "    error6[i] = 1.0/X_te_mo.shape[0]*np.sum(np.power(dif,2))\n",
    "error6"
   ]
  },
  {
   "cell_type": "code",
   "execution_count": 111,
   "metadata": {
    "collapsed": false
   },
   "outputs": [
    {
     "data": {
      "image/png": "[encoded data removed]",
      "text/plain": [
       "<matplotlib.figure.Figure at 0x1087b2650>"
      ]
     },
     "metadata": {},
     "output_type": "display_data"
    }
   ],
   "source": [
    "fig, ax = plt.subplots()\n",
    "ax.plot(lam, error6, label= 'exp6')\n",
    "ax.set_ylim([0,ax.get_ylim()[1]+0.1])\n",
    "ax.set_xscale('log')\n",
    "plt.show()"
   ]
  },
  {
   "cell_type": "code",
   "execution_count": null,
   "metadata": {
    "collapsed": true
   },
   "outputs": [],
   "source": []
  },
  {
   "cell_type": "code",
   "execution_count": null,
   "metadata": {
    "collapsed": true
   },
   "outputs": [],
   "source": []
  },
  {
   "cell_type": "markdown",
   "metadata": {},
   "source": [
    "# Create dataset --- x1 and x2 have difference variance"
   ]
  },
  {
   "cell_type": "code",
   "execution_count": 212,
   "metadata": {
    "collapsed": true
   },
   "outputs": [],
   "source": [
    "###### Create the original dataset\n",
    "n = 600 # total number of data points\n",
    "#x = np.random.rand(n) # to keep the same expectation of the original dataset\n",
    "\n",
    "# In this case \n",
    "sigma_f1 = 1\n",
    "sigma_f2 = 0.01\n",
    "sigma_noise = 0.01\n",
    "\n",
    "p = np.array([0.9, 0.1])\n",
    "\n",
    "x1 = x + np.random.normal(0,sigma_f1,x.shape[0]) # x1 feature \n",
    "x2 = x + np.random.normal(0,sigma_f2,x.shape[0]) # x2 feature \n",
    "\n",
    "x1 = x1.reshape((x1.shape[0],1))\n",
    "x2 = x2.reshape((x2.shape[0],1))\n",
    "X = np.concatenate((x1,x2),axis=1)\n",
    "\n",
    "w = np.array([0.3,0.7])\n",
    "\n",
    "y = np.dot(X,w) + np.random.normal(0,sigma_noise,X.shape[0])"
   ]
  },
  {
   "cell_type": "code",
   "execution_count": 213,
   "metadata": {
    "collapsed": true
   },
   "outputs": [],
   "source": [
    "#### separate/modify for training and testing data\n",
    "X_tr_un = np.array(X[0:n/2,:])\n",
    "y_tr = np.array(y[0:n/2])\n",
    "X_te_un = np.array(X[n/2:,:])\n",
    "y_te = np.array(y[n/2:])\n",
    "\n",
    "X_tr_mo = np.array(X[0:n/2,:])\n",
    "num = X_tr_mo.shape[0] - (p*X_tr_mo.shape[0]).astype('int32')\n",
    "for i in range(num.shape[0]):\n",
    "    perm = np.random.permutation(X_tr_mo.shape[0])[0:num[i]]\n",
    "    X_tr_mo[perm, i] = 0\n",
    "X_te_mo = np.array(X[n/2:,:])\n",
    "num2 = X_te_mo.shape[0] - (p*X_te_mo.shape[0]).astype('int32')\n",
    "for i in range(num2.shape[0]):\n",
    "    perm = np.random.permutation(X_te_mo.shape[0])[0:num2[i]]\n",
    "    X_te_mo[perm,i] = 0"
   ]
  },
  {
   "cell_type": "code",
   "execution_count": null,
   "metadata": {
    "collapsed": true
   },
   "outputs": [],
   "source": []
  },
  {
   "cell_type": "markdown",
   "metadata": {},
   "source": [
    "# Exp7:  vanilla ridge regression on unmodified X_tr_un"
   ]
  },
  {
   "cell_type": "code",
   "execution_count": 214,
   "metadata": {
    "collapsed": true
   },
   "outputs": [],
   "source": [
    "w_r7 = np.zeros((lam.shape[0],X_tr_un.shape[1]))\n",
    "for i in range(lam.shape[0]):\n",
    "    inv = np.linalg.inv(np.dot(X_tr_un.T,X_tr_un)+lam[i]*np.eye(X_tr_un.shape[1]))\n",
    "    w_r7[i] = np.dot(np.dot(inv,X_tr_un.T),y_tr)"
   ]
  },
  {
   "cell_type": "code",
   "execution_count": 215,
   "metadata": {
    "collapsed": false
   },
   "outputs": [
    {
     "data": {
      "text/plain": [
       "array([[ 0.3174011 ,  0.4646436 ],\n",
       "       [ 0.31734019,  0.46171849],\n",
       "       [ 0.31727084,  0.45883574],\n",
       "       [ 0.31719328,  0.45599438],\n",
       "       [ 0.31710777,  0.4531935 ],\n",
       "       [ 0.31701452,  0.45043219],\n",
       "       [ 0.31691377,  0.44770958],\n",
       "       [ 0.31680574,  0.44502483],\n",
       "       [ 0.31669063,  0.44237712],\n",
       "       [ 0.31656865,  0.43976565],\n",
       "       [ 0.31644001,  0.43718964],\n",
       "       [ 0.31630489,  0.43464836],\n",
       "       [ 0.31616348,  0.43214105],\n",
       "       [ 0.31601596,  0.42966702],\n",
       "       [ 0.31586251,  0.42722557],\n",
       "       [ 0.31570329,  0.42481604],\n",
       "       [ 0.31553848,  0.42243777],\n",
       "       [ 0.31536823,  0.42009013],\n",
       "       [ 0.3151927 ,  0.4177725 ],\n",
       "       [ 0.31501204,  0.41548428],\n",
       "       [ 0.31482639,  0.41322489],\n",
       "       [ 0.3146359 ,  0.41099376],\n",
       "       [ 0.31444071,  0.40879033],\n",
       "       [ 0.31424095,  0.40661406],\n",
       "       [ 0.31403675,  0.40446444],\n",
       "       [ 0.31382824,  0.40234095],\n",
       "       [ 0.31361554,  0.40024309],\n",
       "       [ 0.31339878,  0.39817037],\n",
       "       [ 0.31317806,  0.39612233],\n",
       "       [ 0.3129535 ,  0.39409851],\n",
       "       [ 0.31272521,  0.39209844],\n",
       "       [ 0.3124933 ,  0.3901217 ],\n",
       "       [ 0.31225786,  0.38816787],\n",
       "       [ 0.31201902,  0.38623651],\n",
       "       [ 0.31177685,  0.38432723],\n",
       "       [ 0.31153146,  0.38243963],\n",
       "       [ 0.31128294,  0.38057331],\n",
       "       [ 0.31103137,  0.37872792],\n",
       "       [ 0.31077686,  0.37690307],\n",
       "       [ 0.31051948,  0.3750984 ],\n",
       "       [ 0.31025932,  0.37331357],\n",
       "       [ 0.30999646,  0.37154824],\n",
       "       [ 0.30973097,  0.36980206],\n",
       "       [ 0.30946294,  0.3680747 ],\n",
       "       [ 0.30919244,  0.36636586],\n",
       "       [ 0.30891955,  0.36467521],\n",
       "       [ 0.30864433,  0.36300246],\n",
       "       [ 0.30836685,  0.3613473 ],\n",
       "       [ 0.30808718,  0.35970944],\n",
       "       [ 0.30780539,  0.3580886 ],\n",
       "       [ 0.30752154,  0.35648449],\n",
       "       [ 0.3072357 ,  0.35489686],\n",
       "       [ 0.30694792,  0.35332541],\n",
       "       [ 0.30665827,  0.35176991],\n",
       "       [ 0.30636679,  0.35023009],\n",
       "       [ 0.30607356,  0.3487057 ],\n",
       "       [ 0.30577862,  0.34719651],\n",
       "       [ 0.30548203,  0.34570226],\n",
       "       [ 0.30518383,  0.34422273],\n",
       "       [ 0.30488409,  0.34275768],\n",
       "       [ 0.30458285,  0.3413069 ],\n",
       "       [ 0.30428015,  0.33987016],\n",
       "       [ 0.30397606,  0.33844725],\n",
       "       [ 0.3036706 ,  0.33703796],\n",
       "       [ 0.30336383,  0.33564208],\n",
       "       [ 0.3030558 ,  0.33425941],\n",
       "       [ 0.30274653,  0.33288975],\n",
       "       [ 0.30243609,  0.33153292],\n",
       "       [ 0.3021245 ,  0.33018871],\n",
       "       [ 0.3018118 ,  0.32885694],\n",
       "       [ 0.30149804,  0.32753744],\n",
       "       [ 0.30118326,  0.32623002],\n",
       "       [ 0.30086748,  0.3249345 ],\n",
       "       [ 0.30055075,  0.32365073],\n",
       "       [ 0.30023311,  0.32237851],\n",
       "       [ 0.29991458,  0.3211177 ],\n",
       "       [ 0.2995952 ,  0.31986813],\n",
       "       [ 0.299275  ,  0.31862965],\n",
       "       [ 0.29895401,  0.31740208],\n",
       "       [ 0.29863228,  0.31618529],\n",
       "       [ 0.29830981,  0.31497913],\n",
       "       [ 0.29798666,  0.31378344],\n",
       "       [ 0.29766284,  0.31259808],\n",
       "       [ 0.29733838,  0.31142291],\n",
       "       [ 0.29701332,  0.31025779],\n",
       "       [ 0.29668767,  0.30910259],\n",
       "       [ 0.29636147,  0.30795717],\n",
       "       [ 0.29603474,  0.3068214 ],\n",
       "       [ 0.29570751,  0.30569515],\n",
       "       [ 0.2953798 ,  0.3045783 ],\n",
       "       [ 0.29505163,  0.30347071],\n",
       "       [ 0.29472303,  0.30237228],\n",
       "       [ 0.29439402,  0.30128287],\n",
       "       [ 0.29406463,  0.30020237],\n",
       "       [ 0.29373487,  0.29913066],\n",
       "       [ 0.29340478,  0.29806764],\n",
       "       [ 0.29307436,  0.29701319],\n",
       "       [ 0.29274364,  0.29596719],\n",
       "       [ 0.29241263,  0.29492955],\n",
       "       [ 0.29208137,  0.29390016]])"
      ]
     },
     "execution_count": 215,
     "metadata": {},
     "output_type": "execute_result"
    }
   ],
   "source": [
    "w_r7"
   ]
  },
  {
   "cell_type": "code",
   "execution_count": 216,
   "metadata": {
    "collapsed": false
   },
   "outputs": [
    {
     "data": {
      "text/plain": [
       "array([ 0.17017653,  0.17024155,  0.17030973,  0.17038096,  0.17045516,\n",
       "        0.17053224,  0.17061212,  0.17069471,  0.17077993,  0.17086772,\n",
       "        0.17095798,  0.17105067,  0.1711457 ,  0.17124301,  0.17134254,\n",
       "        0.17144422,  0.17154801,  0.17165383,  0.17176164,  0.17187138,\n",
       "        0.171983  ,  0.17209646,  0.17221169,  0.17232866,  0.17244732,\n",
       "        0.17256762,  0.17268953,  0.172813  ,  0.172938  ,  0.17306447,\n",
       "        0.1731924 ,  0.17332173,  0.17345243,  0.17358448,  0.17371783,\n",
       "        0.17385246,  0.17398833,  0.17412541,  0.17426367,  0.17440309,\n",
       "        0.17454363,  0.17468527,  0.17482798,  0.17497174,  0.17511652,\n",
       "        0.17526229,  0.17540904,  0.17555673,  0.17570535,  0.17585488,\n",
       "        0.17600529,  0.17615656,  0.17630867,  0.1764616 ,  0.17661534,\n",
       "        0.17676986,  0.17692514,  0.17708117,  0.17723793,  0.1773954 ,\n",
       "        0.17755357,  0.17771241,  0.17787192,  0.17803207,  0.17819286,\n",
       "        0.17835426,  0.17851627,  0.17867887,  0.17884203,  0.17900576,\n",
       "        0.17917004,  0.17933485,  0.17950019,  0.17966603,  0.17983237,\n",
       "        0.17999919,  0.18016649,  0.18033425,  0.18050246,  0.1806711 ,\n",
       "        0.18084018,  0.18100968,  0.18117958,  0.18134989,  0.18152058,\n",
       "        0.18169164,  0.18186308,  0.18203488,  0.18220703,  0.18237951,\n",
       "        0.18255234,  0.18272548,  0.18289894,  0.18307271,  0.18324678,\n",
       "        0.18342113,  0.18359577,  0.18377069,  0.18394588,  0.18412132])"
      ]
     },
     "execution_count": 216,
     "metadata": {},
     "output_type": "execute_result"
    }
   ],
   "source": [
    "# error \n",
    "error7 = np.zeros(lam.shape[0])\n",
    "for i in range(lam.shape[0]):\n",
    "    dif = np.dot(X_te_mo, w_r7[i]) - y_te\n",
    "    error7[i] = 1.0/X_te_mo.shape[0]*np.sum(np.power(dif,2))\n",
    "error7"
   ]
  },
  {
   "cell_type": "code",
   "execution_count": 217,
   "metadata": {
    "collapsed": false
   },
   "outputs": [
    {
     "data": {
      "image/png": "[encoded data removed]",
      "text/plain": [
       "<matplotlib.figure.Figure at 0x10908c950>"
      ]
     },
     "metadata": {},
     "output_type": "display_data"
    }
   ],
   "source": [
    "fig, ax = plt.subplots()\n",
    "ax.plot(lam, error7, label= 'exp7')\n",
    "#ax.set_ylim([0,ax.get_ylim()[1]+0.1])\n",
    "#ax.set_xscale('log')\n",
    "plt.show()"
   ]
  },
  {
   "cell_type": "markdown",
   "metadata": {},
   "source": [
    "# Exp8: vanilla ridge regression on modified X_tr_mo"
   ]
  },
  {
   "cell_type": "code",
   "execution_count": 122,
   "metadata": {
    "collapsed": false
   },
   "outputs": [
    {
     "data": {
      "text/plain": [
       "array([[  4.51977549e-01,   5.57791428e-01],\n",
       "       [  4.51982272e-01,   5.57373034e-01],\n",
       "       [  4.52028207e-01,   5.53224410e-01],\n",
       "       [  4.52368242e-01,   5.14989887e-01],\n",
       "       [  4.49473303e-01,   3.07558015e-01],\n",
       "       [  3.73242934e-01,   7.03154153e-02],\n",
       "       [  1.31620725e-01,   1.11544837e-02],\n",
       "       [  1.75869612e-02,   1.28809879e-03],\n",
       "       [  1.81984855e-03,   1.31171888e-04],\n",
       "       [  1.82619821e-04,   1.31416899e-05]])"
      ]
     },
     "execution_count": 122,
     "metadata": {},
     "output_type": "execute_result"
    }
   ],
   "source": [
    "w_r8 = np.zeros((lam.shape[0],X_tr_mo.shape[1]))\n",
    "for i in range(lam.shape[0]):\n",
    "    inv = np.linalg.inv(np.dot(X_tr_mo.T,X_tr_mo)+lam[i]*np.eye(X_tr_mo.shape[1]))\n",
    "    w_r8[i] = np.dot(np.dot(inv,X_tr_mo.T),y_tr)\n",
    "w_r8"
   ]
  },
  {
   "cell_type": "code",
   "execution_count": 123,
   "metadata": {
    "collapsed": false
   },
   "outputs": [
    {
     "data": {
      "text/plain": [
       "array([ 0.13077346,  0.1307752 ,  0.13079312,  0.13101163,  0.13405361,\n",
       "        0.15348238,  0.28273401,  0.38817741,  0.40502281,  0.40680359])"
      ]
     },
     "execution_count": 123,
     "metadata": {},
     "output_type": "execute_result"
    }
   ],
   "source": [
    "# error \n",
    "error8 = np.zeros(lam.shape[0])\n",
    "for i in range(lam.shape[0]):\n",
    "    dif = np.dot(X_te_mo, w_r8[i]) - y_te\n",
    "    error8[i] = 1.0/X_te_mo.shape[0]*np.sum(np.power(dif,2))\n",
    "error8"
   ]
  },
  {
   "cell_type": "code",
   "execution_count": 125,
   "metadata": {
    "collapsed": false
   },
   "outputs": [
    {
     "data": {
      "image/png": "[encoded data removed]",
      "text/plain": [
       "<matplotlib.figure.Figure at 0x1090839d0>"
      ]
     },
     "metadata": {},
     "output_type": "display_data"
    }
   ],
   "source": [
    "fig, ax = plt.subplots()\n",
    "ax.plot(lam, error8, label= 'exp8')\n",
    "ax.set_ylim([0,ax.get_ylim()[1]+0.1])\n",
    "ax.set_xscale('log')\n",
    "plt.show()"
   ]
  },
  {
   "cell_type": "code",
   "execution_count": null,
   "metadata": {
    "collapsed": true
   },
   "outputs": [],
   "source": []
  },
  {
   "cell_type": "markdown",
   "metadata": {},
   "source": [
    "# Exp9: anytime with L2 on X_tr_un"
   ]
  },
  {
   "cell_type": "code",
   "execution_count": 218,
   "metadata": {
    "collapsed": false
   },
   "outputs": [
    {
     "data": {
      "text/plain": [
       "array([[ 0.41467225, -0.19313535],\n",
       "       [ 0.41359173, -0.18906524],\n",
       "       [ 0.41252052, -0.18513312],\n",
       "       [ 0.41145834, -0.18133225],\n",
       "       [ 0.41040493, -0.17765633],\n",
       "       [ 0.40936005, -0.17409942],\n",
       "       [ 0.40832345, -0.17065599],\n",
       "       [ 0.40729494, -0.16732083],\n",
       "       [ 0.40627429, -0.16408903],\n",
       "       [ 0.40526131, -0.160956  ],\n",
       "       [ 0.40425582, -0.15791739],\n",
       "       [ 0.40325763, -0.15496912],\n",
       "       [ 0.40226658, -0.15210732],\n",
       "       [ 0.40128252, -0.14932836],\n",
       "       [ 0.40030527, -0.14662879],\n",
       "       [ 0.39933472, -0.14400537],\n",
       "       [ 0.3983707 , -0.141455  ],\n",
       "       [ 0.39741309, -0.13897478],\n",
       "       [ 0.39646177, -0.13656195],\n",
       "       [ 0.39551661, -0.13421387],\n",
       "       [ 0.3945775 , -0.13192807],\n",
       "       [ 0.39364432, -0.12970217],\n",
       "       [ 0.39271697, -0.12753394],\n",
       "       [ 0.39179534, -0.12542124],\n",
       "       [ 0.39087934, -0.12336204],\n",
       "       [ 0.38996888, -0.12135441],\n",
       "       [ 0.38906385, -0.11939649],\n",
       "       [ 0.38816418, -0.11748654],\n",
       "       [ 0.38726978, -0.11562287],\n",
       "       [ 0.38638056, -0.1138039 ],\n",
       "       [ 0.38549645, -0.11202809],\n",
       "       [ 0.38461738, -0.11029399],\n",
       "       [ 0.38374326, -0.1086002 ],\n",
       "       [ 0.38287403, -0.10694539],\n",
       "       [ 0.38200962, -0.10532828],\n",
       "       [ 0.38114996, -0.10374766],\n",
       "       [ 0.38029499, -0.10220235],\n",
       "       [ 0.37944464, -0.10069124],\n",
       "       [ 0.37859886, -0.09921325],\n",
       "       [ 0.37775758, -0.09776735],\n",
       "       [ 0.37692075, -0.09635255],\n",
       "       [ 0.37608831, -0.09496791],\n",
       "       [ 0.37526021, -0.09361252],\n",
       "       [ 0.3744364 , -0.0922855 ],\n",
       "       [ 0.37361682, -0.09098602],\n",
       "       [ 0.37280143, -0.08971326],\n",
       "       [ 0.37199017, -0.08846645],\n",
       "       [ 0.37118301, -0.08724485],\n",
       "       [ 0.37037989, -0.08604772],\n",
       "       [ 0.36958076, -0.08487439],\n",
       "       [ 0.3687856 , -0.08372418],\n",
       "       [ 0.36799434, -0.08259646],\n",
       "       [ 0.36720696, -0.0814906 ],\n",
       "       [ 0.3664234 , -0.08040601],\n",
       "       [ 0.36564364, -0.07934211],\n",
       "       [ 0.36486763, -0.07829834],\n",
       "       [ 0.36409533, -0.07727418],\n",
       "       [ 0.36332671, -0.0762691 ],\n",
       "       [ 0.36256173, -0.07528261],\n",
       "       [ 0.36180035, -0.07431422],\n",
       "       [ 0.36104255, -0.07336347],\n",
       "       [ 0.36028827, -0.07242991],\n",
       "       [ 0.35953751, -0.0715131 ],\n",
       "       [ 0.35879021, -0.07061262],\n",
       "       [ 0.35804634, -0.06972807],\n",
       "       [ 0.35730589, -0.06885904],\n",
       "       [ 0.35656881, -0.06800517],\n",
       "       [ 0.35583507, -0.06716608],\n",
       "       [ 0.35510465, -0.06634141],\n",
       "       [ 0.35437751, -0.06553082],\n",
       "       [ 0.35365363, -0.06473397],\n",
       "       [ 0.35293298, -0.06395054],\n",
       "       [ 0.35221553, -0.06318021],\n",
       "       [ 0.35150125, -0.06242268],\n",
       "       [ 0.35079012, -0.06167765],\n",
       "       [ 0.35008211, -0.06094484],\n",
       "       [ 0.3493772 , -0.06022396],\n",
       "       [ 0.34867536, -0.05951475],\n",
       "       [ 0.34797656, -0.05881695],\n",
       "       [ 0.34728078, -0.05813029],\n",
       "       [ 0.34658799, -0.05745454],\n",
       "       [ 0.34589818, -0.05678945],\n",
       "       [ 0.34521132, -0.05613479],\n",
       "       [ 0.34452738, -0.05549033],\n",
       "       [ 0.34384634, -0.05485586],\n",
       "       [ 0.34316818, -0.05423116],\n",
       "       [ 0.34249289, -0.05361602],\n",
       "       [ 0.34182042, -0.05301023],\n",
       "       [ 0.34115078, -0.05241361],\n",
       "       [ 0.34048392, -0.05182596],\n",
       "       [ 0.33981984, -0.0512471 ],\n",
       "       [ 0.33915851, -0.05067684],\n",
       "       [ 0.33849991, -0.050115  ],\n",
       "       [ 0.33784403, -0.04956143],\n",
       "       [ 0.33719083, -0.04901594],\n",
       "       [ 0.33654031, -0.04847838],\n",
       "       [ 0.33589244, -0.04794859],\n",
       "       [ 0.33524721, -0.04742641],\n",
       "       [ 0.33460459, -0.04691169],\n",
       "       [ 0.33396457, -0.04640429]])"
      ]
     },
     "execution_count": 218,
     "metadata": {},
     "output_type": "execute_result"
    }
   ],
   "source": [
    "w_r9 = np.zeros((lam.shape[0],X_tr_un.shape[1]))\n",
    "\n",
    "dp = np.diag(p) #B\n",
    "dpp = np.diag(p-1.0/2*p*p)\n",
    "xp = np.dot(X_tr_un,dp)\n",
    "\n",
    "for i in range(lam.shape[0]):\n",
    "    inv = np.linalg.inv(np.dot(np.dot(X_tr_un.T,X_tr_un),dpp) + 1.0/2*np.dot(xp.T,xp)+lam[i]*np.eye(X_tr_un.shape[1]))\n",
    "    w_r9[i] = np.dot(np.dot(inv,xp.T),y_tr)\n",
    "w_r9"
   ]
  },
  {
   "cell_type": "code",
   "execution_count": 219,
   "metadata": {
    "collapsed": false
   },
   "outputs": [
    {
     "data": {
      "text/plain": [
       "array([ 0.16464435,  0.16464397,  0.16465215,  0.16466844,  0.16469245,\n",
       "        0.1647238 ,  0.16476212,  0.16480709,  0.16485839,  0.16491574,\n",
       "        0.16497886,  0.1650475 ,  0.16512142,  0.16520038,  0.16528419,\n",
       "        0.16537263,  0.16546551,  0.16556267,  0.16566392,  0.1657691 ,\n",
       "        0.16587807,  0.16599068,  0.16610679,  0.16622627,  0.166349  ,\n",
       "        0.16647486,  0.16660374,  0.16673554,  0.16687014,  0.16700745,\n",
       "        0.16714738,  0.16728984,  0.16743475,  0.16758202,  0.16773157,\n",
       "        0.16788334,  0.16803724,  0.16819322,  0.1683512 ,  0.16851112,\n",
       "        0.16867292,  0.16883655,  0.16900194,  0.16916904,  0.1693378 ,\n",
       "        0.16950816,  0.16968009,  0.16985353,  0.17002844,  0.17020477,\n",
       "        0.17038248,  0.17056154,  0.17074189,  0.17092351,  0.17110636,\n",
       "        0.1712904 ,  0.17147559,  0.17166191,  0.17184931,  0.17203778,\n",
       "        0.17222728,  0.17241777,  0.17260924,  0.17280165,  0.17299497,\n",
       "        0.17318918,  0.17338426,  0.17358018,  0.17377691,  0.17397443,\n",
       "        0.17417272,  0.17437176,  0.17457152,  0.17477199,  0.17497314,\n",
       "        0.17517495,  0.1753774 ,  0.17558049,  0.17578417,  0.17598845,\n",
       "        0.1761933 ,  0.1763987 ,  0.17660464,  0.1768111 ,  0.17701806,\n",
       "        0.17722552,  0.17743345,  0.17764184,  0.17785067,  0.17805994,\n",
       "        0.17826962,  0.1784797 ,  0.17869018,  0.17890104,  0.17911226,\n",
       "        0.17932383,  0.17953574,  0.17974798,  0.17996054,  0.18017341])"
      ]
     },
     "execution_count": 219,
     "metadata": {},
     "output_type": "execute_result"
    }
   ],
   "source": [
    "# error \n",
    "error9 = np.zeros(lam.shape[0])\n",
    "for i in range(lam.shape[0]):\n",
    "    dif = np.dot(X_te_mo, w_r9[i]) - y_te\n",
    "    error9[i] = 1.0/X_te_mo.shape[0]*np.sum(np.power(dif,2))\n",
    "error9"
   ]
  },
  {
   "cell_type": "code",
   "execution_count": 220,
   "metadata": {
    "collapsed": false
   },
   "outputs": [
    {
     "data": {
      "image/png": "[encoded data removed]",
      "text/plain": [
       "<matplotlib.figure.Figure at 0x10865d2d0>"
      ]
     },
     "metadata": {},
     "output_type": "display_data"
    }
   ],
   "source": [
    "fig, ax = plt.subplots()\n",
    "ax.plot(lam, error9, label= 'exp9')\n",
    "#ax.set_ylim([0,ax.get_ylim()[1]+0.1])\n",
    "#ax.set_xscale('log')\n",
    "plt.show()"
   ]
  },
  {
   "cell_type": "code",
   "execution_count": null,
   "metadata": {
    "collapsed": true
   },
   "outputs": [],
   "source": []
  },
  {
   "cell_type": "markdown",
   "metadata": {},
   "source": [
    "# Exp10: vanilla lasso on unmodified X_tr_un"
   ]
  },
  {
   "cell_type": "code",
   "execution_count": 130,
   "metadata": {
    "collapsed": true
   },
   "outputs": [],
   "source": [
    "w_r10 = np.zeros((lam.shape[0],X_tr_un.shape[1]))\n",
    "y_pred = np.zeros((lam.shape[0],X_te_mo.shape[0]))\n",
    "for i in range(lam.shape[0]):\n",
    "    clf = lm.Lasso(alpha=lam[0])\n",
    "    clf.fit(X_tr_un,y_tr)\n",
    "    y_pred[i] = clf.predict(X_te_mo)\n",
    "    w_r10[i] = clf.coef_"
   ]
  },
  {
   "cell_type": "code",
   "execution_count": 135,
   "metadata": {
    "collapsed": false
   },
   "outputs": [
    {
     "data": {
      "text/plain": [
       "array([[ 0.29945676,  0.69015773],\n",
       "       [ 0.29945676,  0.69015773],\n",
       "       [ 0.29945676,  0.69015773],\n",
       "       [ 0.29945676,  0.69015773],\n",
       "       [ 0.29945676,  0.69015773],\n",
       "       [ 0.29945676,  0.69015773],\n",
       "       [ 0.29945676,  0.69015773],\n",
       "       [ 0.29945676,  0.69015773],\n",
       "       [ 0.29945676,  0.69015773],\n",
       "       [ 0.29945676,  0.69015773]])"
      ]
     },
     "execution_count": 135,
     "metadata": {},
     "output_type": "execute_result"
    }
   ],
   "source": [
    "w_r10"
   ]
  },
  {
   "cell_type": "code",
   "execution_count": 131,
   "metadata": {
    "collapsed": false
   },
   "outputs": [
    {
     "data": {
      "text/plain": [
       "array([ 0.16231187,  0.16231187,  0.16231187,  0.16231187,  0.16231187,\n",
       "        0.16231187,  0.16231187,  0.16231187,  0.16231187,  0.16231187])"
      ]
     },
     "execution_count": 131,
     "metadata": {},
     "output_type": "execute_result"
    }
   ],
   "source": [
    "# error \n",
    "error10 = np.zeros(lam.shape[0])\n",
    "for i in range(lam.shape[0]):\n",
    "    dif = y_pred[i] - y_te\n",
    "    error10[i] = 1.0/X_te_mo.shape[0]*np.sum(np.power(dif,2))\n",
    "error10"
   ]
  },
  {
   "cell_type": "code",
   "execution_count": 132,
   "metadata": {
    "collapsed": false
   },
   "outputs": [
    {
     "data": {
      "image/png": "[encoded data removed]",
      "text/plain": [
       "<matplotlib.figure.Figure at 0x10934a190>"
      ]
     },
     "metadata": {},
     "output_type": "display_data"
    }
   ],
   "source": [
    "fig, ax = plt.subplots()\n",
    "ax.plot(lam, error10, label= 'exp10')\n",
    "ax.set_ylim([0,ax.get_ylim()[1]+0.1])\n",
    "ax.set_xscale('log')\n",
    "plt.show()"
   ]
  },
  {
   "cell_type": "markdown",
   "metadata": {},
   "source": [
    "# Exp11: vanilla lasso on modified X_tr_mo"
   ]
  },
  {
   "cell_type": "code",
   "execution_count": 133,
   "metadata": {
    "collapsed": true
   },
   "outputs": [],
   "source": [
    "w_r11 = np.zeros((lam.shape[0],X_tr_mo.shape[1]))\n",
    "y_pred11 = np.zeros((lam.shape[0],X_te_mo.shape[0]))\n",
    "for i in range(lam.shape[0]):\n",
    "    clf = lm.Lasso(alpha=lam[0])\n",
    "    clf.fit(X_tr_mo,y_tr)\n",
    "    y_pred11[i] = clf.predict(X_te_mo)\n",
    "    w_r11[i] = clf.coef_"
   ]
  },
  {
   "cell_type": "code",
   "execution_count": 136,
   "metadata": {
    "collapsed": false
   },
   "outputs": [
    {
     "data": {
      "text/plain": [
       "array([[ 0.33486417,  0.1770723 ],\n",
       "       [ 0.33486417,  0.1770723 ],\n",
       "       [ 0.33486417,  0.1770723 ],\n",
       "       [ 0.33486417,  0.1770723 ],\n",
       "       [ 0.33486417,  0.1770723 ],\n",
       "       [ 0.33486417,  0.1770723 ],\n",
       "       [ 0.33486417,  0.1770723 ],\n",
       "       [ 0.33486417,  0.1770723 ],\n",
       "       [ 0.33486417,  0.1770723 ],\n",
       "       [ 0.33486417,  0.1770723 ]])"
      ]
     },
     "execution_count": 136,
     "metadata": {},
     "output_type": "execute_result"
    }
   ],
   "source": [
    "w_r11"
   ]
  },
  {
   "cell_type": "code",
   "execution_count": 137,
   "metadata": {
    "collapsed": false
   },
   "outputs": [
    {
     "data": {
      "text/plain": [
       "array([ 0.05020391,  0.05020391,  0.05020391,  0.05020391,  0.05020391,\n",
       "        0.05020391,  0.05020391,  0.05020391,  0.05020391,  0.05020391])"
      ]
     },
     "execution_count": 137,
     "metadata": {},
     "output_type": "execute_result"
    }
   ],
   "source": [
    "# error \n",
    "error11 = np.zeros(lam.shape[0])\n",
    "for i in range(lam.shape[0]):\n",
    "    dif = y_pred11[i] - y_te\n",
    "    error11[i] = 1.0/X_te_mo.shape[0]*np.sum(np.power(dif,2))\n",
    "error11"
   ]
  },
  {
   "cell_type": "code",
   "execution_count": 138,
   "metadata": {
    "collapsed": false
   },
   "outputs": [
    {
     "data": {
      "image/png": "[encoded data removed]",
      "text/plain": [
       "<matplotlib.figure.Figure at 0x1088b6290>"
      ]
     },
     "metadata": {},
     "output_type": "display_data"
    }
   ],
   "source": [
    "fig, ax = plt.subplots()\n",
    "ax.plot(lam, error11, label= 'exp11')\n",
    "ax.set_ylim([0,ax.get_ylim()[1]+0.1])\n",
    "ax.set_xscale('log')\n",
    "plt.show()"
   ]
  },
  {
   "cell_type": "markdown",
   "metadata": {},
   "source": [
    "# Exp12: anytime with L1 on unmodified X_tr_un"
   ]
  },
  {
   "cell_type": "code",
   "execution_count": 139,
   "metadata": {
    "collapsed": false
   },
   "outputs": [
    {
     "data": {
      "text/plain": [
       "array([[ 0.54046083, -1.87317284],\n",
       "       [ 0.53146083, -1.86417284],\n",
       "       [ 0.44146083, -1.77417284],\n",
       "       [ 0.        , -0.87417284],\n",
       "       [ 0.        ,  0.        ],\n",
       "       [ 0.        ,  0.        ],\n",
       "       [ 0.        ,  0.        ],\n",
       "       [ 0.        ,  0.        ],\n",
       "       [ 0.        ,  0.        ],\n",
       "       [ 0.        ,  0.        ]])"
      ]
     },
     "execution_count": 139,
     "metadata": {},
     "output_type": "execute_result"
    }
   ],
   "source": [
    "w_r12 = np.zeros((lam.shape[0],X_tr_un.shape[1]))\n",
    "\n",
    "dp = np.diag(p) #B\n",
    "dpp = np.diag(p-1.0/2*p*p)\n",
    "xp = np.dot(X_tr_un,dp)\n",
    "\n",
    "for i in range(lam.shape[0]):\n",
    "    inv = np.linalg.inv(np.dot(np.dot(X_tr_un.T,X_tr_un),dpp) + 1.0/2*np.dot(xp.T,xp))\n",
    "    w_r12[i] = np.dot(np.dot(inv,xp.T),y_tr)\n",
    "\n",
    "for i in range(w_r12.shape[0]):\n",
    "    for j in range(w_r12.shape[1]):\n",
    "        it = w_r12[i,j]\n",
    "        if it > lam[i]:\n",
    "            it -= lam[i]\n",
    "        elif it <= lam[i] and it >= -lam[i]:\n",
    "            it = 0\n",
    "        elif it < -lam[i]:\n",
    "            it += lam[i]\n",
    "        w_r12[i,j] = it\n",
    "w_r12"
   ]
  },
  {
   "cell_type": "code",
   "execution_count": 140,
   "metadata": {
    "collapsed": false
   },
   "outputs": [
    {
     "data": {
      "text/plain": [
       "array([ 0.31494048,  0.31331458,  0.30687426,  0.47817359,  0.40700259,\n",
       "        0.40700259,  0.40700259,  0.40700259,  0.40700259,  0.40700259])"
      ]
     },
     "execution_count": 140,
     "metadata": {},
     "output_type": "execute_result"
    }
   ],
   "source": [
    "# error \n",
    "error12 = np.zeros(lam.shape[0])\n",
    "for i in range(lam.shape[0]):\n",
    "    dif = np.dot(X_te_mo, w_r12[i]) - y_te\n",
    "    error12[i] = 1.0/X_te_mo.shape[0]*np.sum(np.power(dif,2))\n",
    "error12"
   ]
  },
  {
   "cell_type": "code",
   "execution_count": 141,
   "metadata": {
    "collapsed": false
   },
   "outputs": [
    {
     "data": {
      "image/png": "[encoded data removed]",
      "text/plain": [
       "<matplotlib.figure.Figure at 0x108815bd0>"
      ]
     },
     "metadata": {},
     "output_type": "display_data"
    }
   ],
   "source": [
    "fig, ax = plt.subplots()\n",
    "ax.plot(lam, error12, label= 'exp12')\n",
    "ax.set_ylim([0,ax.get_ylim()[1]+0.1])\n",
    "ax.set_xscale('log')\n",
    "plt.show()"
   ]
  },
  {
   "cell_type": "code",
   "execution_count": null,
   "metadata": {
    "collapsed": true
   },
   "outputs": [],
   "source": []
  },
  {
   "cell_type": "markdown",
   "metadata": {},
   "source": [
    "# summary"
   ]
  },
  {
   "cell_type": "code",
   "execution_count": 221,
   "metadata": {
    "collapsed": false
   },
   "outputs": [
    {
     "data": {
      "image/png": "[encoded data removed]",
      "text/plain": [
       "<matplotlib.figure.Figure at 0x109063610>"
      ]
     },
     "metadata": {},
     "output_type": "display_data"
    }
   ],
   "source": [
    "fig, ax = plt.subplots()\n",
    "ax.plot(lam, error7, label= 'vanilla ridge regression')\n",
    "#ax.plot(lam[5:], error2[5:], label= 'exp2')\n",
    "ax.plot(lam, error9, label= 'anytime regression')\n",
    "#ax.plot(lam, error10, label= 'exp4')\n",
    "#ax.plot(lam[5:], error5[5:], label= 'exp5')\n",
    "#ax.plot(lam, error12, label= 'exp6')\n",
    "#ax.set_ylim([0,ax.get_ylim()[1]+0.1])\n",
    "#ax.set_xscale('log')\n",
    "ax.set_title('different variance')\n",
    "plt.legend(bbox_to_anchor=(1.05, 1), loc=2, borderaxespad=0.)\n",
    "plt.show()"
   ]
  },
  {
   "cell_type": "code",
   "execution_count": null,
   "metadata": {
    "collapsed": true
   },
   "outputs": [],
   "source": []
  }
 ],
 "metadata": {
  "kernelspec": {
   "display_name": "Python 2",
   "language": "python",
   "name": "python2"
  },
  "language_info": {
   "codemirror_mode": {
    "name": "ipython",
    "version": 2
   },
   "file_extension": ".py",
   "mimetype": "text/x-python",
   "name": "python",
   "nbconvert_exporter": "python",
   "pygments_lexer": "ipython2",
   "version": "2.7.10"
  }
 },
 "nbformat": 4,
 "nbformat_minor": 0
}
