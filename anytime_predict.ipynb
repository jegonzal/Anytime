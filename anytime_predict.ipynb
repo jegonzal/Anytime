{
 "cells": [
  {
   "cell_type": "code",
   "execution_count": 1,
   "metadata": {
    "collapsed": true
   },
   "outputs": [],
   "source": [
    "%reload_ext autoreload\n",
    "%autoreload 2\n",
    "%matplotlib inline"
   ]
  },
  {
   "cell_type": "code",
   "execution_count": 8,
   "metadata": {
    "collapsed": true
   },
   "outputs": [],
   "source": [
    "import numpy as np\n",
    "import matplotlib\n",
    "import matplotlib.pyplot as plt\n",
    "from sklearn.datasets import load_boston\n",
    "from sklearn import preprocessing\n",
    "from sklearn.linear_model import Ridge\n",
    "from sklearn import linear_model as lm"
   ]
  },
  {
   "cell_type": "markdown",
   "metadata": {},
   "source": [
    "# Load Data"
   ]
  },
  {
   "cell_type": "code",
   "execution_count": 153,
   "metadata": {
    "collapsed": true
   },
   "outputs": [],
   "source": [
    "boston = load_boston()\n",
    "X = boston.data \n",
    "X = preprocessing.normalize(X, norm='l2')\n",
    "y = boston.target\n",
    "X_train = X[0:300,:]\n",
    "y_train = y[0:300]\n",
    "X_test = X[300:,:]\n",
    "y_test = y[300:]"
   ]
  },
  {
   "cell_type": "code",
   "execution_count": 154,
   "metadata": {
    "collapsed": false
   },
   "outputs": [
    {
     "name": "stdout",
     "output_type": "stream",
     "text": [
      "finish loading data!\n"
     ]
    }
   ],
   "source": [
    "p = np.random.rand(X_train.shape[1])\n",
    "dp = np.diag(p) #B\n",
    "dpp = np.diag(p-1.0/2*p*p)\n",
    "num = X_test.shape[0] - p*X_test.shape[0]\n",
    "num = num.astype('int32').tolist()\n",
    "for i in range(len(num)): \n",
    "    ll = num[i]\n",
    "    perm = np.random.permutation(X_test.shape[0])[0:ll]\n",
    "    perm = perm.tolist()\n",
    "    for j in perm:\n",
    "        X_test[j,i] = 0\n",
    "print 'finish loading data!'  "
   ]
  },
  {
   "cell_type": "markdown",
   "metadata": {},
   "source": [
    "# Ridge regression with L2"
   ]
  },
  {
   "cell_type": "code",
   "execution_count": 179,
   "metadata": {
    "collapsed": true
   },
   "outputs": [],
   "source": [
    "lam = 1000"
   ]
  },
  {
   "cell_type": "code",
   "execution_count": 180,
   "metadata": {
    "collapsed": false
   },
   "outputs": [
    {
     "data": {
      "text/plain": [
       "69968.932506381287"
      ]
     },
     "execution_count": 180,
     "metadata": {},
     "output_type": "execute_result"
    }
   ],
   "source": [
    "inv = np.linalg.inv(np.dot(X_train.T,X_train)+lam*np.eye(X_train.shape[1]))\n",
    "w_r = np.dot(np.dot(inv,X_train.T),y_train)\n",
    "# error rate\n",
    "dif = np.dot(X_test, w_r) - y_test\n",
    "np.sum(np.power(dif,2))"
   ]
  },
  {
   "cell_type": "code",
   "execution_count": 156,
   "metadata": {
    "collapsed": false
   },
   "outputs": [
    {
     "data": {
      "text/plain": [
       "array([  4.33673415e-03,   2.30534838e-01,   9.06760297e-02,\n",
       "         1.20074606e-03,   5.98183029e-03,   8.02142178e-02,\n",
       "         7.00547161e-01,   5.21160070e-02,   5.34993310e-02,\n",
       "         3.56108486e+00,   2.04682467e-01,   4.56748648e+00,\n",
       "         1.04078965e-01])"
      ]
     },
     "execution_count": 156,
     "metadata": {},
     "output_type": "execute_result"
    }
   ],
   "source": [
    "w_r"
   ]
  },
  {
   "cell_type": "markdown",
   "metadata": {},
   "source": [
    "# Lasso Regression"
   ]
  },
  {
   "cell_type": "code",
   "execution_count": 157,
   "metadata": {
    "collapsed": false
   },
   "outputs": [
    {
     "data": {
      "text/plain": [
       "46980.244439960225"
      ]
     },
     "execution_count": 157,
     "metadata": {},
     "output_type": "execute_result"
    }
   ],
   "source": [
    "clf = lm.Lasso(alpha=0.1)\n",
    "clf.fit(X_train,y_train)\n",
    "y_pred = clf.predict(X_test)\n",
    "# error\n",
    "dif = y_pred - y_test\n",
    "np.sum(np.power(dif,2))"
   ]
  },
  {
   "cell_type": "code",
   "execution_count": 158,
   "metadata": {
    "collapsed": false
   },
   "outputs": [
    {
     "data": {
      "text/plain": [
       "array([ -0.        ,  13.78655243,  -0.        ,   0.        ,\n",
       "        -0.        ,   0.        ,  -0.        ,  -0.        ,\n",
       "         0.        , -18.84166474,  -0.        ,   0.        ,  -0.        ])"
      ]
     },
     "execution_count": 158,
     "metadata": {},
     "output_type": "execute_result"
    }
   ],
   "source": [
    "clf.coef_"
   ]
  },
  {
   "cell_type": "markdown",
   "metadata": {},
   "source": [
    "# Anytime with L1"
   ]
  },
  {
   "cell_type": "code",
   "execution_count": 159,
   "metadata": {
    "collapsed": true
   },
   "outputs": [],
   "source": [
    "lam = 0\n",
    "xp = np.dot(X_train,dp)\n",
    "inverse = np.linalg.inv(np.dot(np.dot(X_train.T,X_train),dpp) + 1.0/2*np.dot(xp.T,xp)+lam*np.eye(X_train.shape[1]))\n",
    "w_p = np.dot(np.dot(inverse,xp.T),y_train)"
   ]
  },
  {
   "cell_type": "code",
   "execution_count": 160,
   "metadata": {
    "collapsed": false
   },
   "outputs": [
    {
     "data": {
      "text/plain": [
       "array([ -3.02803390e+04,   1.08068482e+02,  -3.59011018e+02,\n",
       "         2.51037151e+03,   6.29010101e+04,   3.35288389e+03,\n",
       "        -3.92978345e+01,  -1.87791649e+01,   8.99588101e+01,\n",
       "        -1.28635529e+01,   1.66597404e+03,  -2.35855115e+03,\n",
       "        -5.66902793e+02])"
      ]
     },
     "execution_count": 160,
     "metadata": {},
     "output_type": "execute_result"
    }
   ],
   "source": [
    "w_p"
   ]
  },
  {
   "cell_type": "code",
   "execution_count": 161,
   "metadata": {
    "collapsed": false
   },
   "outputs": [
    {
     "data": {
      "text/plain": [
       "62901.010090485579"
      ]
     },
     "execution_count": 161,
     "metadata": {},
     "output_type": "execute_result"
    }
   ],
   "source": [
    "np.max(w_p)"
   ]
  },
  {
   "cell_type": "code",
   "execution_count": 174,
   "metadata": {
    "collapsed": true
   },
   "outputs": [],
   "source": [
    "thr = 30000"
   ]
  },
  {
   "cell_type": "code",
   "execution_count": 175,
   "metadata": {
    "collapsed": false
   },
   "outputs": [
    {
     "data": {
      "text/plain": [
       "array([  -280.33899175,      0.        ,      0.        ,      0.        ,\n",
       "        32901.01009049,      0.        ,      0.        ,      0.        ,\n",
       "            0.        ,      0.        ,      0.        ,      0.        ,\n",
       "            0.        ])"
      ]
     },
     "execution_count": 175,
     "metadata": {},
     "output_type": "execute_result"
    }
   ],
   "source": [
    "w_p_list = w_p.tolist()\n",
    "for i in range(len(w_p_list)):\n",
    "    it = w_p_list[i]\n",
    "    if it > thr:\n",
    "        it -= thr\n",
    "    elif it <= thr and it >= -thr:\n",
    "        it = 0\n",
    "    elif it < -thr:\n",
    "        it += thr\n",
    "    w_p_list[i] = it\n",
    "w_p_list = np.asarray(w_p_list)\n",
    "w_p_list"
   ]
  },
  {
   "cell_type": "code",
   "execution_count": 176,
   "metadata": {
    "collapsed": false
   },
   "outputs": [
    {
     "data": {
      "text/plain": [
       "47592.671879579357"
      ]
     },
     "execution_count": 176,
     "metadata": {},
     "output_type": "execute_result"
    }
   ],
   "source": [
    "# error rate\n",
    "dif = np.dot(X_test, w_p_list) - y_test\n",
    "np.sum(np.power(dif,2))"
   ]
  },
  {
   "cell_type": "code",
   "execution_count": null,
   "metadata": {
    "collapsed": true
   },
   "outputs": [],
   "source": []
  }
 ],
 "metadata": {
  "kernelspec": {
   "display_name": "Python 2",
   "language": "python",
   "name": "python2"
  },
  "language_info": {
   "codemirror_mode": {
    "name": "ipython",
    "version": 2
   },
   "file_extension": ".py",
   "mimetype": "text/x-python",
   "name": "python",
   "nbconvert_exporter": "python",
   "pygments_lexer": "ipython2",
   "version": "2.7.10"
  }
 },
 "nbformat": 4,
 "nbformat_minor": 0
}
