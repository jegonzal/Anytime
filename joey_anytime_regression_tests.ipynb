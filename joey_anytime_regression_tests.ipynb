{
 "cells": [
  {
   "cell_type": "code",
   "execution_count": 1,
   "metadata": {
    "collapsed": true
   },
   "outputs": [],
   "source": [
    "%reload_ext autoreload\n",
    "%autoreload 2\n",
    "%matplotlib inline"
   ]
  },
  {
   "cell_type": "code",
   "execution_count": 2,
   "metadata": {
    "collapsed": false
   },
   "outputs": [],
   "source": [
    "import numpy as np\n",
    "import matplotlib\n",
    "import matplotlib.pyplot as plt\n",
    "from sklearn.datasets import *\n",
    "from sklearn.datasets.mldata import fetch_mldata\n",
    "import tempfile\n",
    "from sklearn import preprocessing\n",
    "from sklearn.linear_model import Ridge\n",
    "from sklearn import linear_model as lm\n",
    "from anytime_regression import *"
   ]
  },
  {
   "cell_type": "code",
   "execution_count": 3,
   "metadata": {
    "collapsed": false
   },
   "outputs": [],
   "source": [
    "lam = np.logspace(-5,5,100) "
   ]
  },
  {
   "cell_type": "markdown",
   "metadata": {},
   "source": [
    "**Synthetic Experiment** --- **Catogorical Data**"
   ]
  },
  {
   "cell_type": "markdown",
   "metadata": {},
   "source": [
    "**Data Generation**:                                                                                                    \n",
    "1) First generate y: randomly pick up 1 or -1.                                                                                \n",
    "2) Initialize all x1 and x2 with same value of y.                                                                      \n",
    "3) Randomly flip 10% of x1 and 40% of x2 --- x1 is better feature with 90% accuracy while x2 has 60% accuracy.             \n",
    "4) Set the probability for each feature to show up at prediction as (0.2 and 0.9)                                      \n",
    "5) Finished."
   ]
  },
  {
   "cell_type": "markdown",
   "metadata": {},
   "source": [
    "Joey: I found your generate_synthetic_data code a bit too complicated for me so I have created a new synthetic dataset generator.  Would be good to know how they differ in the data. (Probably the same?)"
   ]
  },
  {
   "cell_type": "markdown",
   "metadata": {
    "collapsed": false
   },
   "source": [
    "```\n",
    "### Generate Dataset\n",
    "n = 5000 #number of training data and testing data respectively\n",
    "d = 2\n",
    "p = np.array([0.2,0.9]) ## x1 has 90% accuracy and x2 has 60% accuracy\n",
    "X_train,y_train = generate_synthetic_data(n,d,p)\n",
    "X_test_o,y_test = generate_synthetic_data(n,d,p)\n",
    "X_test = modify_data(X_test_o,X_train,p)\n",
    "X_val,y_val = generate_synthetic_data(n,d,p)\n",
    "```"
   ]
  },
  {
   "cell_type": "code",
   "execution_count": 9,
   "metadata": {
    "collapsed": true
   },
   "outputs": [],
   "source": [
    "#import numpy.matlib\n",
    "n = 100000\n",
    "d = 3\n",
    "propTrain = 0.8\n",
    "# The probability that the feature will _disagree_ with the label\n",
    "pError = 0.2 * np.ones(d) # currently all uniform\n",
    "# Probability of missing a dimension at test time\n",
    "pMissing = 0.8 * np.ones(d)\n",
    "# Make first dimension a safe dimension (occurs often)\n",
    "pMissing[0] = 0.2 \n",
    "\n",
    "# Construct raw training data\n",
    "y = np.random.choice([-1., 1.], (n,))\n",
    "X = np.array([y * np.random.choice([-1., 1.], size=(n,), p=[p, 1. - p]) for p in pError]).T\n",
    "# Normalize the raw data for simplicity\n",
    "# X = X - X.mean(axis = 0)\n",
    "# X = X / X.var(axis = 0)\n",
    "\n",
    "# Split into training and testing\n",
    "ind = np.random.permutation(n)\n",
    "split = int(propTrain * n)\n",
    "ind_train = ind[:split]\n",
    "ind_test = ind[split:]\n",
    "# train and test variables\n",
    "X_train = X[ind_train, :]\n",
    "X_test = X[ind_test, :]\n",
    "y_train = y[ind_train]\n",
    "y_test = y[ind_test]\n",
    "\n",
    "# Mask out (set to 0) missing values \n",
    "def drop_features(X, pMissing):\n",
    "    (n,_) = X.shape\n",
    "    # Adding + 0. to prevent any floating point leakage of sign information (though should not be necessary)\n",
    "    return X * np.array([np.random.choice([0., 1.], size=(n,), p=[p, 1. - p]) for p in pMissing]).T + 0.\n",
    "\n",
    "def joey_vanilla_ridge_regression(X, y, lam):\n",
    "    (n,d) = X.shape\n",
    "    # solve is numerically more stable (and efficient) than inverse * X' y\n",
    "    return np.linalg.solve(np.dot(X.T, X) + lam * np.eye(d), np.dot(X.T, y))\n",
    "\n",
    "def l2error(w, X, y):\n",
    "    r = np.dot(X, w) - y\n",
    "    return (r * r).mean()\n",
    "\n",
    "# Binray prediction error (what fraction of the time was the sign incorrect)\n",
    "def predError(w, X, y):\n",
    "    p = np.dot(X, w) + 0.\n",
    "    return (((y < 0.) & (p > 0.)) | ((y > 0.) & (p < 0.))).mean()\n",
    "\n",
    "# Test features with missing values\n",
    "X_test_o = drop_features(X_test, pMissing)"
   ]
  },
  {
   "cell_type": "code",
   "execution_count": 6,
   "metadata": {
    "collapsed": false
   },
   "outputs": [
    {
     "data": {
      "text/plain": [
       "array([[ 1.,  1.,  1.],\n",
       "       [ 1., -1., -1.],\n",
       "       [ 1.,  1., -1.],\n",
       "       ..., \n",
       "       [-1.,  1.,  1.],\n",
       "       [ 1., -1.,  1.],\n",
       "       [-1., -1.,  1.]])"
      ]
     },
     "execution_count": 6,
     "metadata": {},
     "output_type": "execute_result"
    }
   ],
   "source": [
    "X_test"
   ]
  },
  {
   "cell_type": "markdown",
   "metadata": {},
   "source": [
    "vanilla ridge regression"
   ]
  },
  {
   "cell_type": "code",
   "execution_count": 104,
   "metadata": {
    "collapsed": false
   },
   "outputs": [
    {
     "data": {
      "text/plain": [
       "array([  3.78000242e-02,   2.60154886e-03,   4.04000792e-02,\n",
       "         2.84021006e-02,  -7.60009850e-03,   1.28012294e-02,\n",
       "         1.16008186e-02,  -3.00004800e-03,  -2.06723527e-16,\n",
       "         4.48066690e-02])"
      ]
     },
     "execution_count": 104,
     "metadata": {},
     "output_type": "execute_result"
    }
   ],
   "source": [
    "X_test_o.mean(axis=0)"
   ]
  },
  {
   "cell_type": "code",
   "execution_count": 116,
   "metadata": {
    "collapsed": false
   },
   "outputs": [
    {
     "data": {
      "text/plain": [
       "-0.0086"
      ]
     },
     "execution_count": 116,
     "metadata": {},
     "output_type": "execute_result"
    }
   ],
   "source": [
    "y_test.mean()"
   ]
  },
  {
   "cell_type": "code",
   "execution_count": 15,
   "metadata": {
    "collapsed": false
   },
   "outputs": [
    {
     "data": {
      "text/plain": [
       "array([[-1.,  0.,  0.],\n",
       "       [ 0.,  0.,  0.],\n",
       "       [ 0.,  0.,  0.],\n",
       "       ..., \n",
       "       [ 1.,  0.,  1.],\n",
       "       [-1.,  0.,  0.],\n",
       "       [ 0.,  1.,  0.]])"
      ]
     },
     "execution_count": 15,
     "metadata": {},
     "output_type": "execute_result"
    }
   ],
   "source": [
    "X_test"
   ]
  },
  {
   "cell_type": "code",
   "execution_count": 12,
   "metadata": {
    "collapsed": false
   },
   "outputs": [
    {
     "name": "stdout",
     "output_type": "stream",
     "text": [
      "[ 0.29635276  0.29556857  0.29539412]\n",
      "Train:\n",
      "\tl2 error 0.384551139697\n",
      "\tpred error 0.1031375\n",
      "Test:\n",
      "\tl2 error 0.387849283083\n",
      "\tpred error 0.1048\n",
      "Test with dropped features:\n",
      "\tl2 error 0.706471004007\n",
      "\tpred error 0.17415\n"
     ]
    }
   ],
   "source": [
    "lopt = 24770.7635599\n",
    "w = joey_vanilla_ridge_regression(X_train, y_train, lopt)\n",
    "print w\n",
    "print \"Train:\"\n",
    "print \"\\tl2 error\", l2error(w, X_train, y_train)\n",
    "print \"\\tpred error\", predError(w, X_train, y_train)\n",
    "print \"Test:\"\n",
    "print \"\\tl2 error\", l2error(w, X_test, y_test)\n",
    "print \"\\tpred error\", predError(w, X_test, y_test)\n",
    "print \"Test with dropped features:\"\n",
    "print \"\\tl2 error\", l2error(w, X_test_o, y_test)\n",
    "print \"\\tpred error\", predError(w, X_test_o, y_test)"
   ]
  },
  {
   "cell_type": "code",
   "execution_count": 5,
   "metadata": {
    "collapsed": true
   },
   "outputs": [],
   "source": [
    "def joey_vanilla_ridge_regression(X, y, lam):\n",
    "    (n,d) = X.shape\n",
    "    # solve is numerically more stable (and efficient) than inverse * X' y\n",
    "    return np.linalg.solve(np.dot(X.T, X) + lam * np.eye(d), np.dot(X.T, y))\n",
    "\n",
    "def l2error(w, X, y):\n",
    "    r = np.dot(X, w) - y\n",
    "    return (r * r).mean()\n",
    "\n",
    "# Binray prediction error (what fraction of the time was the sign incorrect)\n",
    "def predError(w, X, y):\n",
    "    p = np.dot(X, w) + 0.\n",
    "    return (((y < 0.) & (p > 0.)) | ((y > 0.) & (p < 0.))).mean()"
   ]
  },
  {
   "cell_type": "code",
   "execution_count": 84,
   "metadata": {
    "collapsed": false
   },
   "outputs": [],
   "source": [
    "test_l2error = []\n",
    "test_prederror = []\n",
    "for l in lam:\n",
    "    w = joey_vanilla_ridge_regression(X_train, y_train, l)\n",
    "    test_l2error.append(l2error(w, X_test, y_test))\n",
    "    test_prederror.append(predError(w, X_test, y_test))"
   ]
  },
  {
   "cell_type": "code",
   "execution_count": 90,
   "metadata": {
    "collapsed": false
   },
   "outputs": [
    {
     "name": "stdout",
     "output_type": "stream",
     "text": [
      "24770.7635599\n"
     ]
    }
   ],
   "source": [
    "print lam[np.argmin(test_prederror)]"
   ]
  },
  {
   "cell_type": "code",
   "execution_count": 85,
   "metadata": {
    "collapsed": false
   },
   "outputs": [
    {
     "data": {
      "text/plain": [
       "[<matplotlib.lines.Line2D at 0x107f6f7d0>]"
      ]
     },
     "execution_count": 85,
     "metadata": {},
     "output_type": "execute_result"
    },
    {
     "data": {
      "image/png": "[encoded data removed]",
      "text/plain": [
       "<matplotlib.figure.Figure at 0x107db71d0>"
      ]
     },
     "metadata": {},
     "output_type": "display_data"
    }
   ],
   "source": [
    "plt.plot(lam, test_prederror)"
   ]
  },
  {
   "cell_type": "code",
   "execution_count": 64,
   "metadata": {
    "collapsed": false
   },
   "outputs": [
    {
     "data": {
      "text/plain": [
       "[<matplotlib.lines.Line2D at 0x107b79e10>]"
      ]
     },
     "execution_count": 64,
     "metadata": {},
     "output_type": "execute_result"
    },
    {
     "data": {
      "image/png": "[encoded data removed]",
      "text/plain": [
       "<matplotlib.figure.Figure at 0x107a9ded0>"
      ]
     },
     "metadata": {},
     "output_type": "display_data"
    }
   ],
   "source": [
    "plt.plot(lam,test_l2error)"
   ]
  }
 ],
 "metadata": {
  "kernelspec": {
   "display_name": "Python 2",
   "language": "python",
   "name": "python2"
  },
  "language_info": {
   "codemirror_mode": {
    "name": "ipython",
    "version": 2
   },
   "file_extension": ".py",
   "mimetype": "text/x-python",
   "name": "python",
   "nbconvert_exporter": "python",
   "pygments_lexer": "ipython2",
   "version": "2.7.10"
  }
 },
 "nbformat": 4,
 "nbformat_minor": 0
}
