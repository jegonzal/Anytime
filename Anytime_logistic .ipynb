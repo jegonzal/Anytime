{
 "cells": [
  {
   "cell_type": "code",
   "execution_count": 1,
   "metadata": {
    "collapsed": true
   },
   "outputs": [],
   "source": [
    "%reload_ext autoreload\n",
    "%autoreload 2\n",
    "%matplotlib inline"
   ]
  },
  {
   "cell_type": "code",
   "execution_count": 2,
   "metadata": {
    "collapsed": true
   },
   "outputs": [],
   "source": [
    "import numpy as np\n",
    "import numpy.ma\n",
    "import matplotlib\n",
    "import matplotlib.pyplot as plt\n",
    "from anytime_logistic import *"
   ]
  },
  {
   "cell_type": "markdown",
   "metadata": {},
   "source": [
    "# Synthetic Experiment for Logistic Regression\n",
    "**Generate synthetic data**"
   ]
  },
  {
   "cell_type": "code",
   "execution_count": 24,
   "metadata": {
    "collapsed": false
   },
   "outputs": [],
   "source": [
    "import numpy.matlib"
   ]
  },
  {
   "cell_type": "code",
   "execution_count": 115,
   "metadata": {
    "collapsed": false
   },
   "outputs": [],
   "source": [
    "import numpy.matlib\n",
    "import numpy as np\n",
    "\n",
    "n = 10000\n",
    "d = 10\n",
    "propTrain = 0.8\n",
    "# The probability that the feature will _disagree_ with the label\n",
    "pError = 0.3 * np.ones(d) # currently all uniform\n",
    "# Probability of missing a dimension at test time\n",
    "pMissing = 0.8 * np.ones(d)\n",
    "# Make first dimension a safe dimension (occurs often)\n",
    "pMissing[0] = 0.2 \n",
    "\n",
    "# Construct raw training data\n",
    "y = np.random.choice([-1., 1.], (n,))\n",
    "X = np.array([y * np.random.choice([-1., 1.], size=(n,), p=[p, 1. - p]) for p in pError]).T\n",
    "# Normalize the raw data for simplicity\n",
    "X = X - X.mean(axis = 0)\n",
    "X = X / X.var(axis = 0)\n",
    "\n",
    "# Split into training and testing\n",
    "ind = np.random.permutation(n)\n",
    "split = int(propTrain * n)\n",
    "ind_train = ind[:split]\n",
    "ind_test = ind[split:]\n",
    "# train and test variables\n",
    "X_train = X[ind_train, :]\n",
    "X_test = X[ind_test, :]\n",
    "y_train = y[ind_train]\n",
    "y_test = y[ind_test]\n",
    "\n",
    "# Mask out (set to 0) missing values \n",
    "def drop_features(X, pMissing):\n",
    "    (n,_) = X.shape\n",
    "    # Adding + 0. to prevent any floating point leakage of sign information (though should not be necessary)\n",
    "    return X * np.array([np.random.choice([0., 1.], size=(n,), p=[p, 1. - p]) for p in pMissing]).T + 0.\n",
    "\n",
    "# Test features with missing values\n",
    "X_test_missing = drop_features(X_test, pMissing)"
   ]
  },
  {
   "cell_type": "code",
   "execution_count": 116,
   "metadata": {
    "collapsed": false
   },
   "outputs": [
    {
     "data": {
      "text/plain": [
       "array([ 0.        ,  0.22222222,  0.44444444,  0.66666667,  0.88888889,\n",
       "        1.11111111,  1.33333333,  1.55555556,  1.77777778,  2.        ])"
      ]
     },
     "execution_count": 116,
     "metadata": {},
     "output_type": "execute_result"
    }
   ],
   "source": []
  },
  {
   "cell_type": "code",
   "execution_count": null,
   "metadata": {
    "collapsed": true
   },
   "outputs": [],
   "source": [
    "acc_vlr_list=[]\n",
    "lam = np.linspace(0., 2., 10)\n",
    "for i in lam:\n",
    "    print 'lam: ', i\n",
    "    clf = anytime_logistic(i)\n",
    "    clf.fit(X_train, y_train, p, 'vanilla')\n",
    "    print 'vanilla lr --theta: ', clf.theta\n",
    "    y_pred_vlr = clf.predict(X_test_o)\n",
    "    acc_vlr = np.mean(y_pred_vlr==y_test)\n",
    "    print 'accuracy for vanilla lr: ', acc_vlr\n",
    "    acc_vlr_list.append(acc_vlr)"
   ]
  },
  {
   "cell_type": "code",
   "execution_count": 108,
   "metadata": {
    "collapsed": false
   },
   "outputs": [
    {
     "data": {
      "text/plain": [
       "array([[ 1.00482315,  0.        ,  0.        , ...,  0.        ,\n",
       "         0.        ,  0.        ],\n",
       "       [ 1.00482315,  0.        ,  0.        , ...,  0.        ,\n",
       "         0.        ,  0.        ],\n",
       "       [-0.99522293,  0.        ,  0.        , ..., -0.999001  ,\n",
       "         0.        ,  0.        ],\n",
       "       ..., \n",
       "       [ 0.        ,  0.        ,  0.        , ...,  0.        ,\n",
       "         0.        ,  0.        ],\n",
       "       [-0.99522293,  0.        ,  0.        , ...,  0.        ,\n",
       "         1.00644122,  0.        ],\n",
       "       [-0.99522293, -1.00240577,  0.        , ..., -0.999001  ,\n",
       "         0.        ,  0.        ]])"
      ]
     },
     "execution_count": 108,
     "metadata": {},
     "output_type": "execute_result"
    }
   ],
   "source": [
    "X * np.array([np.random.choice([0., 1.], size=(n,), p=[p, 1. - p]) for p in pMissing]).T + 0."
   ]
  },
  {
   "cell_type": "code",
   "execution_count": 113,
   "metadata": {
    "collapsed": false
   },
   "outputs": [
    {
     "data": {
      "text/plain": [
       "10000"
      ]
     },
     "execution_count": 113,
     "metadata": {},
     "output_type": "execute_result"
    }
   ],
   "source": []
  },
  {
   "cell_type": "code",
   "execution_count": 4,
   "metadata": {
    "collapsed": false
   },
   "outputs": [],
   "source": [
    "p = np.array([1,1]) ## cache hit rate \n",
    "n = 2000\n",
    "d = 2\n",
    "X_train, y_train = generate_synthetic_data(n,d,p)\n",
    "X_test_o, y_test = generate_synthetic_data(n,d,p)"
   ]
  },
  {
   "cell_type": "code",
   "execution_count": 13,
   "metadata": {
    "collapsed": false
   },
   "outputs": [
    {
     "data": {
      "text/plain": [
       "array([ 0.277, -0.047])"
      ]
     },
     "execution_count": 13,
     "metadata": {},
     "output_type": "execute_result"
    }
   ],
   "source": [
    "X_train.mean(axis=0)"
   ]
  },
  {
   "cell_type": "code",
   "execution_count": 2828,
   "metadata": {
    "collapsed": false
   },
   "outputs": [],
   "source": [
    "X_test = modify_data(X_test_o,X_train,p)"
   ]
  },
  {
   "cell_type": "code",
   "execution_count": 2829,
   "metadata": {
    "collapsed": true
   },
   "outputs": [],
   "source": [
    "X_train_mod = modify_data(X_train,X_train,p)"
   ]
  },
  {
   "cell_type": "code",
   "execution_count": 2820,
   "metadata": {
    "collapsed": false
   },
   "outputs": [
    {
     "data": {
      "text/plain": [
       "0.39350000000000002"
      ]
     },
     "execution_count": 2820,
     "metadata": {},
     "output_type": "execute_result"
    }
   ],
   "source": [
    "np.mean(X_test[:,1]==y_test)"
   ]
  },
  {
   "cell_type": "code",
   "execution_count": 2821,
   "metadata": {
    "collapsed": true
   },
   "outputs": [],
   "source": [
    "X_test0 = modify_data(X_test,X_train,p,'zero')"
   ]
  },
  {
   "cell_type": "code",
   "execution_count": 2822,
   "metadata": {
    "collapsed": false
   },
   "outputs": [
    {
     "data": {
      "text/plain": [
       "array([  1.00000000e-03,   1.00000000e-02,   1.00000000e-01,\n",
       "         1.00000000e+00,   1.00000000e+01,   1.00000000e+02,\n",
       "         1.00000000e+03])"
      ]
     },
     "execution_count": 2822,
     "metadata": {},
     "output_type": "execute_result"
    }
   ],
   "source": [
    "lam = np.logspace(-3,3,7)\n",
    "lam"
   ]
  },
  {
   "cell_type": "markdown",
   "metadata": {},
   "source": [
    "**Anytime Logistic Regression**"
   ]
  },
  {
   "cell_type": "code",
   "execution_count": 2799,
   "metadata": {
    "collapsed": false
   },
   "outputs": [
    {
     "name": "stdout",
     "output_type": "stream",
     "text": [
      "lam:  0.001\n",
      "coef\n",
      "[[  9.18904240e+01   0.00000000e+00]\n",
      " [  0.00000000e+00   1.10951919e-02]]\n",
      "anytime lr --theta:  [ 0.00812779 -0.39280865]\n",
      "accuracy for anytime lr:  0.3425\n",
      "lam:  0.01\n",
      "coef\n",
      "[[  9.18994240e+01   0.00000000e+00]\n",
      " [  0.00000000e+00   2.00951919e-02]]\n",
      "anytime lr --theta:  [ 0.00813694 -0.3724512 ]\n",
      "accuracy for anytime lr:  0.3225\n",
      "lam:  0.1\n",
      "coef\n",
      "[[ 91.989424     0.        ]\n",
      " [  0.           0.11009519]]\n",
      "anytime lr --theta:  [ 0.00818997 -0.24915574]\n",
      "accuracy for anytime lr:  0.3555\n",
      "lam:  1.0\n",
      "coef\n",
      "[[ 92.889424     0.        ]\n",
      " [  0.           1.01009519]]\n",
      "anytime lr --theta:  [ 0.00820596 -0.05893571]\n",
      "accuracy for anytime lr:  0.345\n",
      "lam:  10.0\n",
      "coef\n",
      "[[ 101.889424      0.        ]\n",
      " [   0.           10.01009519]]\n",
      "anytime lr --theta:  [ 0.00750763 -0.00547977]\n",
      "accuracy for anytime lr:  0.3375\n",
      "lam:  100.0\n",
      "coef\n",
      "[[ 191.889424      0.        ]\n",
      " [   0.          100.01009519]]\n",
      "anytime lr --theta:  [ 0.00401091 -0.00202287]\n",
      "accuracy for anytime lr:  0.33\n",
      "lam:  1000.0\n",
      "coef\n",
      "[[ 1091.889424       0.        ]\n",
      " [    0.          1000.01009519]]\n",
      "anytime lr --theta:  [-669.54471034  108.05975798]\n",
      "accuracy for anytime lr:  0.248\n"
     ]
    }
   ],
   "source": [
    "acc_alr_list=[]\n",
    "for i in lam:\n",
    "    print 'lam: ', i\n",
    "    model = anytime_logistic(i)\n",
    "    model.fit(X_train,y_train,p,'anytime')\n",
    "    print 'anytime lr --theta: ', model.theta\n",
    "    y_pred_alr = model.predict(X_test)\n",
    "    acc_alr = np.mean(y_pred_alr==y_test)\n",
    "    print 'accuracy for anytime lr: ', acc_alr\n",
    "    acc_alr_list.append(acc_alr)"
   ]
  },
  {
   "cell_type": "markdown",
   "metadata": {},
   "source": [
    "**Vanilla Logistic Regressin**"
   ]
  },
  {
   "cell_type": "code",
   "execution_count": 2830,
   "metadata": {
    "collapsed": false
   },
   "outputs": [
    {
     "data": {
      "text/plain": [
       "array([[ 1,  1],\n",
       "       [ 1, -1],\n",
       "       [ 1, -1],\n",
       "       ..., \n",
       "       [ 1, -1],\n",
       "       [-1,  1],\n",
       "       [-1,  1]])"
      ]
     },
     "execution_count": 2830,
     "metadata": {},
     "output_type": "execute_result"
    }
   ],
   "source": [
    "X_test_o"
   ]
  },
  {
   "cell_type": "code",
   "execution_count": 2831,
   "metadata": {
    "collapsed": false
   },
   "outputs": [
    {
     "name": "stdout",
     "output_type": "stream",
     "text": [
      "lam:  0.001\n",
      "coef\n",
      "[[ 0.001  0.   ]\n",
      " [ 0.     0.001]]\n",
      "vanilla lr --theta:  [ 3.96505782 -0.4665404 ]\n",
      "accuracy for vanilla lr:  0.6405\n"
     ]
    }
   ],
   "source": [
    "acc_vlr_list=[]\n",
    "lam = [0.001]\n",
    "for i in lam:\n",
    "    print 'lam: ', i\n",
    "    clf = anytime_logistic(i)\n",
    "    clf.fit(X_train,y_train,p,'vanilla')\n",
    "    print 'vanilla lr --theta: ', clf.theta\n",
    "    y_pred_vlr = clf.predict(X_test_o)\n",
    "    acc_vlr = np.mean(y_pred_vlr==y_test)\n",
    "    print 'accuracy for vanilla lr: ', acc_vlr\n",
    "    acc_vlr_list.append(acc_vlr)"
   ]
  },
  {
   "cell_type": "markdown",
   "metadata": {},
   "source": [
    "**sampling method**"
   ]
  },
  {
   "cell_type": "code",
   "execution_count": 2801,
   "metadata": {
    "collapsed": false
   },
   "outputs": [
    {
     "name": "stdout",
     "output_type": "stream",
     "text": [
      "lam:  0.001\n",
      "coef\n",
      "[[ 0.001  0.   ]\n",
      " [ 0.     0.001]]\n",
      "sampling --theta:  [ 0.02006425 -0.42506752]\n",
      "accuracy for sampling method:  0.413\n",
      "lam:  0.01\n",
      "coef\n",
      "[[ 0.01  0.  ]\n",
      " [ 0.    0.01]]\n",
      "sampling --theta:  [ 0.01862382 -0.40231898]\n",
      "accuracy for sampling method:  0.335\n",
      "lam:  0.1\n",
      "coef\n",
      "[[ 0.1  0. ]\n",
      " [ 0.   0.1]]\n",
      "sampling --theta:  [ 0.01081215 -0.2617264 ]\n",
      "accuracy for sampling method:  0.331\n",
      "lam:  1.0\n",
      "coef\n",
      "[[ 1.  0.]\n",
      " [ 0.  1.]]\n",
      "sampling --theta:  [ 0.00211924 -0.05931259]\n",
      "accuracy for sampling method:  0.3225\n",
      "lam:  10.0\n",
      "coef\n",
      "[[ 10.   0.]\n",
      " [  0.  10.]]\n",
      "sampling --theta:  [ 0.00028656 -0.0082926 ]\n",
      "accuracy for sampling method:  0.332\n",
      "lam:  100.0\n",
      "coef\n",
      "[[ 100.    0.]\n",
      " [   0.  100.]]\n",
      "sampling --theta:  [  6.99881005e-05  -2.02997549e-03]\n",
      "accuracy for sampling method:  0.3245\n",
      "lam:  1000.0\n",
      "coef\n",
      "[[ 1000.     0.]\n",
      " [    0.  1000.]]\n",
      "sampling --theta:  [  33.48338759 -974.44753777]\n",
      "accuracy for sampling method:  0.412\n"
     ]
    }
   ],
   "source": [
    "acc_samp_list = []\n",
    "for i in lam:\n",
    "    print 'lam: ', i\n",
    "    samp = anytime_logistic(i)\n",
    "    samp.fit(X_train_mod,y_train,p,'sampling')\n",
    "    print 'sampling --theta: ', samp.theta\n",
    "    y_pred_samp = samp.predict(X_test)\n",
    "    acc_samp=np.mean(y_pred_samp == y_test)\n",
    "    print 'accuracy for sampling method: ', acc_samp\n",
    "    acc_samp_list.append(acc_samp)"
   ]
  },
  {
   "cell_type": "code",
   "execution_count": null,
   "metadata": {
    "collapsed": false
   },
   "outputs": [],
   "source": []
  },
  {
   "cell_type": "code",
   "execution_count": null,
   "metadata": {
    "collapsed": false
   },
   "outputs": [],
   "source": []
  },
  {
   "cell_type": "code",
   "execution_count": null,
   "metadata": {
    "collapsed": false
   },
   "outputs": [],
   "source": []
  },
  {
   "cell_type": "code",
   "execution_count": null,
   "metadata": {
    "collapsed": false
   },
   "outputs": [],
   "source": []
  },
  {
   "cell_type": "code",
   "execution_count": null,
   "metadata": {
    "collapsed": false
   },
   "outputs": [],
   "source": []
  },
  {
   "cell_type": "code",
   "execution_count": null,
   "metadata": {
    "collapsed": false
   },
   "outputs": [],
   "source": []
  },
  {
   "cell_type": "code",
   "execution_count": null,
   "metadata": {
    "collapsed": false
   },
   "outputs": [],
   "source": []
  },
  {
   "cell_type": "code",
   "execution_count": null,
   "metadata": {
    "collapsed": false
   },
   "outputs": [],
   "source": []
  },
  {
   "cell_type": "code",
   "execution_count": null,
   "metadata": {
    "collapsed": false
   },
   "outputs": [],
   "source": []
  },
  {
   "cell_type": "code",
   "execution_count": null,
   "metadata": {
    "collapsed": false
   },
   "outputs": [],
   "source": []
  },
  {
   "cell_type": "code",
   "execution_count": null,
   "metadata": {
    "collapsed": false
   },
   "outputs": [],
   "source": []
  },
  {
   "cell_type": "code",
   "execution_count": null,
   "metadata": {
    "collapsed": false
   },
   "outputs": [],
   "source": []
  },
  {
   "cell_type": "markdown",
   "metadata": {},
   "source": [
    "# QS learning"
   ]
  },
  {
   "cell_type": "code",
   "execution_count": 2497,
   "metadata": {
    "collapsed": true
   },
   "outputs": [],
   "source": [
    "data,target = make_classification(n_samples=10000, n_features=4)\n",
    "data = preprocessing.scale(data)\n",
    "X = np.array(data[0:n/2,:])\n",
    "y = np.array(target[0:n/2])\n",
    "X_test = np.array(data[n/2:,:])\n",
    "y_test = np.array(target[n/2:])"
   ]
  },
  {
   "cell_type": "code",
   "execution_count": 2498,
   "metadata": {
    "collapsed": false
   },
   "outputs": [
    {
     "data": {
      "text/plain": [
       "array([ 0.09524455,  0.16580545,  0.00371149,  0.13731159])"
      ]
     },
     "execution_count": 2498,
     "metadata": {},
     "output_type": "execute_result"
    }
   ],
   "source": [
    "clf = anytime_logistic(1)\n",
    "clf.fit(X,y,p,'clf')\n",
    "clf.theta"
   ]
  },
  {
   "cell_type": "code",
   "execution_count": 2501,
   "metadata": {
    "collapsed": false
   },
   "outputs": [
    {
     "data": {
      "text/plain": [
       "array([ 0.8,  0.1,  0.9,  0.2])"
      ]
     },
     "execution_count": 2501,
     "metadata": {},
     "output_type": "execute_result"
    }
   ],
   "source": [
    "p = np.array([0.8,0.1,0.9,0.2])\n",
    "p"
   ]
  },
  {
   "cell_type": "code",
   "execution_count": 2502,
   "metadata": {
    "collapsed": false
   },
   "outputs": [
    {
     "data": {
      "text/plain": [
       "array([[ 0.        ,  0.        , -0.92999819,  0.        ],\n",
       "       [-1.27474732,  0.        ,  1.09056918,  0.        ],\n",
       "       [ 0.38991638,  0.        , -0.96223211,  0.        ],\n",
       "       ..., \n",
       "       [-1.11457557,  0.        ,  0.        ,  0.        ],\n",
       "       [ 0.41782101,  0.        , -0.20060765,  0.        ],\n",
       "       [ 0.60714799,  0.        , -0.48151875,  0.        ]])"
      ]
     },
     "execution_count": 2502,
     "metadata": {},
     "output_type": "execute_result"
    }
   ],
   "source": [
    "X_test = modify_data(X_test,p)\n",
    "X_test"
   ]
  },
  {
   "cell_type": "code",
   "execution_count": 2503,
   "metadata": {
    "collapsed": false
   },
   "outputs": [
    {
     "data": {
      "text/plain": [
       "array([[ 0.92050246,  0.        , -0.65402055,  0.        ],\n",
       "       [-1.39852604,  0.        ,  0.97868298,  0.        ],\n",
       "       [-0.69961217,  0.        , -0.36537809,  0.        ],\n",
       "       ..., \n",
       "       [-1.69913164,  0.        ,  1.79120399,  0.        ],\n",
       "       [ 0.        ,  0.        ,  1.7853146 ,  0.        ],\n",
       "       [-0.99714073,  0.        ,  1.90961834,  0.        ]])"
      ]
     },
     "execution_count": 2503,
     "metadata": {},
     "output_type": "execute_result"
    }
   ],
   "source": [
    "X_mod = modify_data(X,p)\n",
    "X_mod"
   ]
  },
  {
   "cell_type": "code",
   "execution_count": 2460,
   "metadata": {
    "collapsed": false
   },
   "outputs": [],
   "source": [
    "def check_zero(x):\n",
    "    if 0 not in x:\n",
    "        return -1\n",
    "    else:\n",
    "        List = []\n",
    "        for i in range(len(x)):\n",
    "            if x[i] == 0:\n",
    "                List.append(i)\n",
    "        return tuple(List)"
   ]
  },
  {
   "cell_type": "code",
   "execution_count": 2461,
   "metadata": {
    "collapsed": true
   },
   "outputs": [],
   "source": [
    "def remove_feature(X,key):\n",
    "    XX = np.array(X)\n",
    "    if key==-1:\n",
    "        return XX\n",
    "    else:\n",
    "        XX = np.delete(XX,key,1)\n",
    "        return XX"
   ]
  },
  {
   "cell_type": "code",
   "execution_count": 2504,
   "metadata": {
    "collapsed": false
   },
   "outputs": [
    {
     "data": {
      "text/plain": [
       "0.72747368421052627"
      ]
     },
     "execution_count": 2504,
     "metadata": {},
     "output_type": "execute_result"
    }
   ],
   "source": [
    "dic = {}\n",
    "y_pred = []\n",
    "for i in range(X_test.shape[0]):\n",
    "    key = check_zero(X_test[i,:])\n",
    "    if key in dic:\n",
    "        model = dic[key]\n",
    "        pred = model.predict(X_test[i,:])\n",
    "        y_pred.append(pred)\n",
    "    else:\n",
    "        model = anytime_logistic(1)\n",
    "        XX = remove_feature(X,key)\n",
    "        pp = np.ones((XX.shape[1],))\n",
    "        model.fit(X,y,pp,'clf')\n",
    "        pred = model.predict(X_test[i,:])\n",
    "        y_pred.append(pred)\n",
    "        dic[key] = model\n",
    "y_pred = np.array(y_pred)\n",
    "np.mean(y_pred==y_test)"
   ]
  },
  {
   "cell_type": "code",
   "execution_count": null,
   "metadata": {
    "collapsed": false
   },
   "outputs": [],
   "source": []
  },
  {
   "cell_type": "code",
   "execution_count": 2505,
   "metadata": {
    "collapsed": false
   },
   "outputs": [
    {
     "name": "stdout",
     "output_type": "stream",
     "text": [
      "coef\n",
      "[[  1.25323782   0.           0.           0.        ]\n",
      " [  0.          10.23858352   0.           0.        ]\n",
      " [  0.           0.           1.11845109   0.        ]\n",
      " [  0.           0.           0.           5.34020009]]\n"
     ]
    },
    {
     "data": {
      "text/plain": [
       "0.7241052631578947"
      ]
     },
     "execution_count": 2505,
     "metadata": {},
     "output_type": "execute_result"
    }
   ],
   "source": [
    "anytime = anytime_logistic(1)\n",
    "anytime.fit(X,y,p,'anytime')\n",
    "y_pred = anytime.predict(X_test)\n",
    "np.mean(y_pred == y_test)"
   ]
  },
  {
   "cell_type": "code",
   "execution_count": 2506,
   "metadata": {
    "collapsed": false
   },
   "outputs": [
    {
     "data": {
      "text/plain": [
       "array([ 0.03503724,  0.03347463,  0.00149004,  0.03795098])"
      ]
     },
     "execution_count": 2506,
     "metadata": {},
     "output_type": "execute_result"
    }
   ],
   "source": [
    "anytime.theta"
   ]
  },
  {
   "cell_type": "code",
   "execution_count": 2510,
   "metadata": {
    "collapsed": false
   },
   "outputs": [
    {
     "data": {
      "text/plain": [
       "0.72747368421052627"
      ]
     },
     "execution_count": 2510,
     "metadata": {},
     "output_type": "execute_result"
    }
   ],
   "source": [
    "clf = anytime_logistic(1)\n",
    "clf.fit(X,y,p,'clf')\n",
    "y_pred_clf = clf.predict(X_test)\n",
    "np.mean(y_pred_clf==y_test) "
   ]
  },
  {
   "cell_type": "code",
   "execution_count": 2511,
   "metadata": {
    "collapsed": false
   },
   "outputs": [
    {
     "data": {
      "text/plain": [
       "array([ 0.09524455,  0.16580545,  0.00371149,  0.13731159])"
      ]
     },
     "execution_count": 2511,
     "metadata": {},
     "output_type": "execute_result"
    }
   ],
   "source": [
    "clf.theta"
   ]
  },
  {
   "cell_type": "code",
   "execution_count": 2512,
   "metadata": {
    "collapsed": false
   },
   "outputs": [
    {
     "data": {
      "text/plain": [
       "0.70821052631578951"
      ]
     },
     "execution_count": 2512,
     "metadata": {},
     "output_type": "execute_result"
    }
   ],
   "source": [
    "clff = anytime_logistic(1)\n",
    "clff.fit(X_mod,y,p,'clf')\n",
    "y_pred_clf = clff.predict(X_test)\n",
    "np.mean(y_pred_clf==y_test) "
   ]
  },
  {
   "cell_type": "code",
   "execution_count": null,
   "metadata": {
    "collapsed": false
   },
   "outputs": [],
   "source": []
  },
  {
   "cell_type": "code",
   "execution_count": 2515,
   "metadata": {
    "collapsed": false
   },
   "outputs": [],
   "source": [
    "N,d=X.shape"
   ]
  },
  {
   "cell_type": "code",
   "execution_count": 2518,
   "metadata": {
    "collapsed": false
   },
   "outputs": [],
   "source": [
    "M = X.sum(axis=0)"
   ]
  },
  {
   "cell_type": "code",
   "execution_count": 2536,
   "metadata": {
    "collapsed": false
   },
   "outputs": [
    {
     "data": {
      "text/plain": [
       "array([  0.        ,  36.90207796,  -0.3985337 ,  29.7757945 ])"
      ]
     },
     "execution_count": 2536,
     "metadata": {},
     "output_type": "execute_result"
    }
   ],
   "source": [
    "M[0] = 0\n",
    "M"
   ]
  },
  {
   "cell_type": "code",
   "execution_count": 2542,
   "metadata": {
    "collapsed": false
   },
   "outputs": [
    {
     "data": {
      "text/plain": [
       "array([0, 1, 0, 1], dtype=int32)"
      ]
     },
     "execution_count": 2542,
     "metadata": {},
     "output_type": "execute_result"
    }
   ],
   "source": [
    "yy = (M>0).astype('int32')\n",
    "yy "
   ]
  },
  {
   "cell_type": "code",
   "execution_count": 2544,
   "metadata": {
    "collapsed": false
   },
   "outputs": [
    {
     "data": {
      "text/plain": [
       "array([1, 1, 0, 1], dtype=int32)"
      ]
     },
     "execution_count": 2544,
     "metadata": {},
     "output_type": "execute_result"
    }
   ],
   "source": [
    "yyy = (M>=0).astype('int32')\n",
    "yyy"
   ]
  },
  {
   "cell_type": "code",
   "execution_count": 2545,
   "metadata": {
    "collapsed": false
   },
   "outputs": [],
   "source": [
    "y = (yy+yyy)/2.0"
   ]
  },
  {
   "cell_type": "code",
   "execution_count": 2546,
   "metadata": {
    "collapsed": false
   },
   "outputs": [
    {
     "data": {
      "text/plain": [
       "array([ 0.5,  1. ,  0. ,  1. ])"
      ]
     },
     "execution_count": 2546,
     "metadata": {},
     "output_type": "execute_result"
    }
   ],
   "source": []
  },
  {
   "cell_type": "code",
   "execution_count": 2555,
   "metadata": {
    "collapsed": false
   },
   "outputs": [],
   "source": []
  },
  {
   "cell_type": "code",
   "execution_count": 2577,
   "metadata": {
    "collapsed": false
   },
   "outputs": [],
   "source": [
    "y=(np.random.rand(10)+0.5).astype('int32').reshape(10,1)"
   ]
  },
  {
   "cell_type": "code",
   "execution_count": 2578,
   "metadata": {
    "collapsed": false
   },
   "outputs": [],
   "source": [
    "x = np.tile(y,(1,2))"
   ]
  },
  {
   "cell_type": "code",
   "execution_count": 2579,
   "metadata": {
    "collapsed": false
   },
   "outputs": [
    {
     "data": {
      "text/plain": [
       "array([[0, 0],\n",
       "       [0, 0],\n",
       "       [1, 1],\n",
       "       [1, 1],\n",
       "       [0, 0],\n",
       "       [0, 0],\n",
       "       [1, 1],\n",
       "       [1, 1],\n",
       "       [1, 1],\n",
       "       [0, 0]], dtype=int32)"
      ]
     },
     "execution_count": 2579,
     "metadata": {},
     "output_type": "execute_result"
    }
   ],
   "source": [
    "x"
   ]
  },
  {
   "cell_type": "code",
   "execution_count": null,
   "metadata": {
    "collapsed": true
   },
   "outputs": [],
   "source": []
  }
 ],
 "metadata": {
  "kernelspec": {
   "display_name": "Python 2",
   "language": "python",
   "name": "python2"
  },
  "language_info": {
   "codemirror_mode": {
    "name": "ipython",
    "version": 2
   },
   "file_extension": ".py",
   "mimetype": "text/x-python",
   "name": "python",
   "nbconvert_exporter": "python",
   "pygments_lexer": "ipython2",
   "version": "2.7.10"
  }
 },
 "nbformat": 4,
 "nbformat_minor": 0
}
